{
 "cells": [
  {
   "cell_type": "code",
   "execution_count": 1,
   "id": "1f38229f-dea7-44e7-b741-1574e1415b1e",
   "metadata": {},
   "outputs": [],
   "source": [
    "import pandas as pd\n",
    "import numpy as np\n",
    "import matplotlib.pyplot as plt\n",
    "import seaborn as sns\n",
    "%matplotlib inline\n",
    "\n",
    "from sklearn.model_selection import train_test_split\n",
    "\n",
    "import warnings\n",
    "warnings.filterwarnings(\"ignore\")"
   ]
  },
  {
   "cell_type": "code",
   "execution_count": 2,
   "id": "f81e2039-89e1-4371-9d81-741295c30172",
   "metadata": {},
   "outputs": [
    {
     "data": {
      "text/html": [
       "<div>\n",
       "<style scoped>\n",
       "    .dataframe tbody tr th:only-of-type {\n",
       "        vertical-align: middle;\n",
       "    }\n",
       "\n",
       "    .dataframe tbody tr th {\n",
       "        vertical-align: top;\n",
       "    }\n",
       "\n",
       "    .dataframe thead th {\n",
       "        text-align: right;\n",
       "    }\n",
       "</style>\n",
       "<table border=\"1\" class=\"dataframe\">\n",
       "  <thead>\n",
       "    <tr style=\"text-align: right;\">\n",
       "      <th></th>\n",
       "      <th>id</th>\n",
       "      <th>carat</th>\n",
       "      <th>cut</th>\n",
       "      <th>color</th>\n",
       "      <th>clarity</th>\n",
       "      <th>depth</th>\n",
       "      <th>table</th>\n",
       "      <th>x</th>\n",
       "      <th>y</th>\n",
       "      <th>z</th>\n",
       "      <th>price</th>\n",
       "    </tr>\n",
       "  </thead>\n",
       "  <tbody>\n",
       "    <tr>\n",
       "      <th>0</th>\n",
       "      <td>0</td>\n",
       "      <td>1.52</td>\n",
       "      <td>Premium</td>\n",
       "      <td>F</td>\n",
       "      <td>VS2</td>\n",
       "      <td>62.2</td>\n",
       "      <td>58.0</td>\n",
       "      <td>7.27</td>\n",
       "      <td>7.33</td>\n",
       "      <td>4.55</td>\n",
       "      <td>13619</td>\n",
       "    </tr>\n",
       "    <tr>\n",
       "      <th>1</th>\n",
       "      <td>1</td>\n",
       "      <td>2.03</td>\n",
       "      <td>Very Good</td>\n",
       "      <td>J</td>\n",
       "      <td>SI2</td>\n",
       "      <td>62.0</td>\n",
       "      <td>58.0</td>\n",
       "      <td>8.06</td>\n",
       "      <td>8.12</td>\n",
       "      <td>5.05</td>\n",
       "      <td>13387</td>\n",
       "    </tr>\n",
       "    <tr>\n",
       "      <th>2</th>\n",
       "      <td>2</td>\n",
       "      <td>0.70</td>\n",
       "      <td>Ideal</td>\n",
       "      <td>G</td>\n",
       "      <td>VS1</td>\n",
       "      <td>61.2</td>\n",
       "      <td>57.0</td>\n",
       "      <td>5.69</td>\n",
       "      <td>5.73</td>\n",
       "      <td>3.50</td>\n",
       "      <td>2772</td>\n",
       "    </tr>\n",
       "    <tr>\n",
       "      <th>3</th>\n",
       "      <td>3</td>\n",
       "      <td>0.32</td>\n",
       "      <td>Ideal</td>\n",
       "      <td>G</td>\n",
       "      <td>VS1</td>\n",
       "      <td>61.6</td>\n",
       "      <td>56.0</td>\n",
       "      <td>4.38</td>\n",
       "      <td>4.41</td>\n",
       "      <td>2.71</td>\n",
       "      <td>666</td>\n",
       "    </tr>\n",
       "    <tr>\n",
       "      <th>4</th>\n",
       "      <td>4</td>\n",
       "      <td>1.70</td>\n",
       "      <td>Premium</td>\n",
       "      <td>G</td>\n",
       "      <td>VS2</td>\n",
       "      <td>62.6</td>\n",
       "      <td>59.0</td>\n",
       "      <td>7.65</td>\n",
       "      <td>7.61</td>\n",
       "      <td>4.77</td>\n",
       "      <td>14453</td>\n",
       "    </tr>\n",
       "  </tbody>\n",
       "</table>\n",
       "</div>"
      ],
      "text/plain": [
       "   id  carat        cut color clarity  depth  table     x     y     z  price\n",
       "0   0   1.52    Premium     F     VS2   62.2   58.0  7.27  7.33  4.55  13619\n",
       "1   1   2.03  Very Good     J     SI2   62.0   58.0  8.06  8.12  5.05  13387\n",
       "2   2   0.70      Ideal     G     VS1   61.2   57.0  5.69  5.73  3.50   2772\n",
       "3   3   0.32      Ideal     G     VS1   61.6   56.0  4.38  4.41  2.71    666\n",
       "4   4   1.70    Premium     G     VS2   62.6   59.0  7.65  7.61  4.77  14453"
      ]
     },
     "execution_count": 2,
     "metadata": {},
     "output_type": "execute_result"
    }
   ],
   "source": [
    "df = pd.read_csv('Datasets/train.csv')\n",
    "df.head()"
   ]
  },
  {
   "cell_type": "code",
   "execution_count": 151,
   "id": "ea1e53e1-cea7-4893-873c-1925b86b7dcf",
   "metadata": {},
   "outputs": [
    {
     "data": {
      "text/plain": [
       "61.9    10781\n",
       "62.0    10150\n",
       "61.8     9270\n",
       "62.1     8866\n",
       "61.6     8534\n",
       "        ...  \n",
       "69.4        1\n",
       "68.1        1\n",
       "52.1        1\n",
       "55.8        1\n",
       "55.0        1\n",
       "Name: depth, Length: 153, dtype: int64"
      ]
     },
     "execution_count": 151,
     "metadata": {},
     "output_type": "execute_result"
    }
   ],
   "source": [
    "df.depth.value_counts()"
   ]
  },
  {
   "cell_type": "code",
   "execution_count": 74,
   "id": "a3f37cee-6210-4811-8bfb-e8eee9a67639",
   "metadata": {},
   "outputs": [],
   "source": [
    "# Split dataset and Drop Columns:\n",
    "\n",
    "X = df.drop(columns=['id','price'])\n",
    "\n",
    "y= df['price']\n",
    "\n",
    "X_train, X_test, y_train, y_test = train_test_split(X, y, test_size=0.15)"
   ]
  },
  {
   "cell_type": "code",
   "execution_count": 152,
   "id": "e2982444-f7a4-460a-a528-08f7c77e748b",
   "metadata": {},
   "outputs": [],
   "source": [
    "from feature_engine.encoding import RareLabelEncoder\n",
    "\n",
    "rare_encoder = RareLabelEncoder()\n",
    "\n",
    "#rare_encoder.fit(X_train)\n",
    "#X_train = rare_encoder.transform(X_train)"
   ]
  },
  {
   "cell_type": "code",
   "execution_count": 153,
   "id": "e6495374-92c5-41ea-a417-a4018f1430e5",
   "metadata": {},
   "outputs": [],
   "source": [
    "#from feature_engine.encoding import OneHotEncoder\n",
    "\n",
    "#hot_encoder = OneHotEncoder()"
   ]
  },
  {
   "cell_type": "code",
   "execution_count": 154,
   "id": "9515ec4f-cae2-4617-9b31-5c01f3728801",
   "metadata": {},
   "outputs": [],
   "source": [
    "from feature_engine.encoding import OrdinalEncoder\n",
    "\n",
    "cat_encoder = OrdinalEncoder(encoding_method='ordered')\n",
    "\n",
    "#cat_encoder.fit(X_train)\n",
    "#X_train = cat_encoder.transform(X_train)"
   ]
  },
  {
   "cell_type": "code",
   "execution_count": 155,
   "id": "7c32a233-be17-4439-b206-f84fe6dae2c7",
   "metadata": {},
   "outputs": [],
   "source": [
    "from feature_engine.outliers import Winsorizer\n",
    "\n",
    "capper = Winsorizer(capping_method=\"gaussian\", tail=\"both\")\n",
    "\n",
    "#capper.fit(X_train)\n",
    "#X_train = capper.transform(X_train)"
   ]
  },
  {
   "cell_type": "code",
   "execution_count": 156,
   "id": "0da1f3fa-e685-441c-a8a8-c8f8b089e4e4",
   "metadata": {},
   "outputs": [],
   "source": [
    "from feature_engine.transformation import YeoJohnsonTransformer\n",
    "\n",
    "yeo_trans = YeoJohnsonTransformer()\n",
    "\n",
    "#yeo_trans.fit(X_train)\n",
    "#X_train = yeo_trans.transform(X_train)"
   ]
  },
  {
   "cell_type": "code",
   "execution_count": 157,
   "id": "e02cca75-191c-43ea-8db1-04f7db473c45",
   "metadata": {},
   "outputs": [],
   "source": [
    "from sklearn.preprocessing import StandardScaler\n",
    "\n",
    "scaler = StandardScaler()\n",
    "\n",
    "#scaler.fit(X_train)\n",
    "#X_train = scaler.transform(X_train)"
   ]
  },
  {
   "cell_type": "code",
   "execution_count": 158,
   "id": "15dc71d8-7e22-4cf2-bc7b-094d2e3f10d8",
   "metadata": {},
   "outputs": [],
   "source": [
    "from feature_engine.selection import DropConstantFeatures, SmartCorrelatedSelection, DropDuplicateFeatures\n",
    "\n",
    "# Drop constant\n",
    "drop_const = DropConstantFeatures(tol=0.90)\n",
    "\n",
    "#drop_const.fit(X_train)\n",
    "#X_train = drop_const.transform(X_train)\n",
    "\n",
    "# Drop duplicates\n",
    "drop_dup = DropDuplicateFeatures()\n",
    "\n",
    "#drop_dup.fit(X_train)\n",
    "#X_train = drop_dup.transform(X_train)\n",
    "\n",
    "# Drop correlated\n",
    "drop_corr = SmartCorrelatedSelection(method='spearman',\n",
    "                                     selection_method='variance',\n",
    "                                     estimator=None, scoring='roc_auc')\n",
    "\n",
    "#drop_corr.fit(X_train, y_train)\n",
    "#X_train = drop_corr.transform(X_train)"
   ]
  },
  {
   "cell_type": "code",
   "execution_count": 160,
   "id": "f6cc1166-0c7f-4fcb-9cc7-bbb741985964",
   "metadata": {},
   "outputs": [],
   "source": [
    "# Import make_pipeline\n",
    "from sklearn.pipeline import make_pipeline\n",
    "\n",
    "# Define pipeline steps\n",
    "\n",
    "transformer_pipe = make_pipeline(rare_encoder,\n",
    "                                 #hot_encoder,\n",
    "                                 cat_encoder,\n",
    "                                 capper,\n",
    "                                 yeo_trans,\n",
    "                                 scaler,\n",
    "                                # drop_const,\n",
    "                                # drop_dup,\n",
    "                                # drop_corr\n",
    "                                 )\n",
    "\n",
    "#fit and transform\n",
    "#X_train = transformer_pipe.fit_transform(X_train,y_train)\n",
    "#X_test = transformer_pipe.transform(X_test)"
   ]
  },
  {
   "cell_type": "code",
   "execution_count": null,
   "id": "7d71eb6e-12aa-4bd2-a986-0f5accde8d46",
   "metadata": {},
   "outputs": [],
   "source": []
  },
  {
   "cell_type": "code",
   "execution_count": 88,
   "id": "a0543dec-85cd-4cf9-b9d8-1bfe4445b6c6",
   "metadata": {},
   "outputs": [
    {
     "data": {
      "text/plain": [
       "0.9805024819294389"
      ]
     },
     "execution_count": 88,
     "metadata": {},
     "output_type": "execute_result"
    }
   ],
   "source": [
    "\n",
    "# define your object using default hyperameters\n",
    "\n",
    "catb_reg = CatBoostRegressor(depth= 11, l2_leaf_reg= 3, learning_rate= 0.01037204787019528, random_strength= 0.37631316886909794, verbose=False)\n",
    "\n",
    "# fit your training data\n",
    "\n",
    "catb_reg.fit(X_train, y_train)\n",
    "catb_reg.score(X_test, y_test)"
   ]
  },
  {
   "cell_type": "code",
   "execution_count": 89,
   "id": "8910ce26-01f8-442a-97e9-68a9f4efb566",
   "metadata": {},
   "outputs": [
    {
     "data": {
      "text/plain": [
       "568.0529612157402"
      ]
     },
     "execution_count": 89,
     "metadata": {},
     "output_type": "execute_result"
    }
   ],
   "source": [
    "catb_reg.predict(X_test)\n",
    "\n",
    "rsme_test = mean_squared_error(y_test, catb_reg.predict(X_test), squared=False)\n",
    "rsme_test"
   ]
  },
  {
   "cell_type": "markdown",
   "id": "2d19b3b7-e42d-4133-b262-d34cc563a39c",
   "metadata": {},
   "source": [
    "# Stacking:"
   ]
  },
  {
   "cell_type": "code",
   "execution_count": 12,
   "id": "9f390b79-3286-439d-a9cf-9ade519be6e5",
   "metadata": {},
   "outputs": [],
   "source": [
    "# Import algorithms to try\n",
    "import time\n",
    "from sklearn.metrics import mean_squared_error, r2_score, accuracy_score\n",
    "from sklearn.model_selection import cross_val_score\n",
    "\n",
    "from sklearn.ensemble import StackingRegressor\n",
    "from sklearn.linear_model import ElasticNet, LogisticRegression\n",
    "from sklearn.neighbors import KNeighborsRegressor\n",
    "from sklearn.ensemble import RandomForestRegressor\n",
    "from xgboost import XGBRegressor\n",
    "from catboost import CatBoostRegressor\n",
    "from sklearn.linear_model import LinearRegression\n",
    "from sklearn.svm import SVR\n",
    "from sklearn.linear_model import SGDRegressor"
   ]
  },
  {
   "cell_type": "code",
   "execution_count": null,
   "id": "09378e17-f154-4808-ae4f-3836e604da2c",
   "metadata": {},
   "outputs": [],
   "source": [
    "XGBRegressor(alpha= 0.04996268773333479, colsample_bytree= 0.8261293830116522, \n",
    "             gamma= 2, learning_rate= 0.0774130167276674, \n",
    "             max_depth= 6, min_child_weight= 2, n_estimators= 308, \n",
    "             reg_lambda= 0.24843411844875563, subsample= 0.735787253770912, random_state=42)"
   ]
  },
  {
   "cell_type": "code",
   "execution_count": 177,
   "id": "65b4b995-f9bf-4a82-9f73-aa61548b5e2e",
   "metadata": {},
   "outputs": [
    {
     "data": {
      "text/plain": [
       "0.9796362957901991"
      ]
     },
     "execution_count": 177,
     "metadata": {},
     "output_type": "execute_result"
    }
   ],
   "source": [
    "# 85-15\n",
    "\n",
    "base_models = []\n",
    "\n",
    "base_models.append(('lr', LinearRegression()))\n",
    "base_models.append(('ctb', CatBoostRegressor(depth= 11, l2_leaf_reg= 3, learning_rate= 0.01037204787019528, random_strength= 0.37631316886909794, verbose=False, random_state=42))) \n",
    "base_models.append(('rf', RandomForestRegressor(random_state=42)))\n",
    "\n",
    "meta_model = LinearRegression()\n",
    "\n",
    "reg_model = StackingRegressor(estimators=base_models, final_estimator=meta_model)\n",
    "\n",
    "reg_model.fit(X_train, y_train)\n",
    "reg_model.score(X_test, y_test)"
   ]
  },
  {
   "cell_type": "code",
   "execution_count": 178,
   "id": "d5d042ab-f1b9-4075-8a6c-d72d83c95662",
   "metadata": {},
   "outputs": [
    {
     "data": {
      "text/plain": [
       "575.7521515761919"
      ]
     },
     "execution_count": 178,
     "metadata": {},
     "output_type": "execute_result"
    }
   ],
   "source": [
    "stack_reg = reg_model.predict(X_test)\n",
    "\n",
    "rsme_test = mean_squared_error(y_test, stack_reg, squared=False)\n",
    "rsme_test"
   ]
  },
  {
   "cell_type": "code",
   "execution_count": null,
   "id": "37d520e6-b3b1-463a-84ee-d88d12c1d157",
   "metadata": {},
   "outputs": [],
   "source": []
  },
  {
   "cell_type": "code",
   "execution_count": 25,
   "id": "1662ee3b-24ae-4880-b637-87cc56752e54",
   "metadata": {},
   "outputs": [
    {
     "data": {
      "text/plain": [
       "-1.8371359082692117e+23"
      ]
     },
     "execution_count": 25,
     "metadata": {},
     "output_type": "execute_result"
    }
   ],
   "source": [
    "# 85-15 + SGD + CatBoost + RandomForest\n",
    "\n",
    "base_models = []\n",
    "\n",
    "base_models.append(('lr', SGDRegressor()))\n",
    "base_models.append(('ctb', CatBoostRegressor(depth= 11, l2_leaf_reg= 3, learning_rate= 0.01037204787019528, random_strength= 0.37631316886909794, verbose=False, random_state=42))) \n",
    "base_models.append(('rf', RandomForestRegressor(random_state=42)))\n",
    "\n",
    "meta_model = SGDRegressor()\n",
    "\n",
    "reg_model = StackingRegressor(estimators=base_models, final_estimator=meta_model)\n",
    "\n",
    "reg_model.fit(X_train, y_train)\n",
    "reg_model.score(X_test, y_test)"
   ]
  },
  {
   "cell_type": "code",
   "execution_count": null,
   "id": "11e5a0cc-0791-4b99-b51c-3ed7870eff49",
   "metadata": {},
   "outputs": [],
   "source": [
    "stack_reg = reg_model.predict(X_test)\n",
    "\n",
    "rsme_test = mean_squared_error(y_test, stack_reg, squared=False)\n",
    "rsme_test"
   ]
  },
  {
   "cell_type": "code",
   "execution_count": null,
   "id": "1e2a8482-96b1-4a5c-87b4-38555ee38216",
   "metadata": {},
   "outputs": [],
   "source": []
  },
  {
   "cell_type": "code",
   "execution_count": 25,
   "id": "60b86297-449d-411b-a07f-2346f44fee55",
   "metadata": {},
   "outputs": [
    {
     "data": {
      "text/plain": [
       "0.9787635873460732"
      ]
     },
     "execution_count": 25,
     "metadata": {},
     "output_type": "execute_result"
    }
   ],
   "source": [
    "# 85-15 + LinReg + CTBoost + KNN Reg (no duplicate, corr ...)\n",
    "\n",
    "base_models = []\n",
    "\n",
    "base_models.append(('lr', LinearRegression()))\n",
    "base_models.append(('ctb', CatBoostRegressor(depth= 11, l2_leaf_reg= 3, learning_rate= 0.01037204787019528, random_strength= 0.37631316886909794, verbose=False, random_state=42))) \n",
    "base_models.append(('rf', KNeighborsRegressor(algorithm= 'auto', leaf_size= 50,n_neighbors= 10, weights= 'distance')))\n",
    "\n",
    "meta_model = LinearRegression()\n",
    "\n",
    "reg_model = StackingRegressor(estimators=base_models, final_estimator=meta_model)\n",
    "\n",
    "reg_model.fit(X_train, y_train)\n",
    "reg_model.score(X_test, y_test)"
   ]
  },
  {
   "cell_type": "code",
   "execution_count": 26,
   "id": "c9deeb2d-d842-47d0-ad51-21d930979cec",
   "metadata": {},
   "outputs": [
    {
     "data": {
      "text/plain": [
       "587.9599677196173"
      ]
     },
     "execution_count": 26,
     "metadata": {},
     "output_type": "execute_result"
    }
   ],
   "source": [
    "stack_reg = reg_model.predict(X_test)\n",
    "\n",
    "rsme_test = mean_squared_error(y_test, stack_reg, squared=False)\n",
    "rsme_test"
   ]
  },
  {
   "cell_type": "code",
   "execution_count": null,
   "id": "48f50464-f32c-4b04-9154-8d1ebbda869b",
   "metadata": {},
   "outputs": [],
   "source": []
  },
  {
   "cell_type": "code",
   "execution_count": null,
   "id": "0f79e426-e393-434b-a844-bd061f05ae8e",
   "metadata": {},
   "outputs": [],
   "source": []
  },
  {
   "cell_type": "code",
   "execution_count": null,
   "id": "3e8f5259-a653-4f9c-a447-58e590805faa",
   "metadata": {},
   "outputs": [],
   "source": []
  },
  {
   "cell_type": "code",
   "execution_count": 13,
   "id": "e7cfcf3f-417d-4818-af80-e38321114c70",
   "metadata": {},
   "outputs": [
    {
     "data": {
      "text/html": [
       "<div>\n",
       "<style scoped>\n",
       "    .dataframe tbody tr th:only-of-type {\n",
       "        vertical-align: middle;\n",
       "    }\n",
       "\n",
       "    .dataframe tbody tr th {\n",
       "        vertical-align: top;\n",
       "    }\n",
       "\n",
       "    .dataframe thead th {\n",
       "        text-align: right;\n",
       "    }\n",
       "</style>\n",
       "<table border=\"1\" class=\"dataframe\">\n",
       "  <thead>\n",
       "    <tr style=\"text-align: right;\">\n",
       "      <th></th>\n",
       "      <th>Algorithm</th>\n",
       "      <th>Train RMSE</th>\n",
       "      <th>Test_RMSE</th>\n",
       "      <th>Train r2 score</th>\n",
       "      <th>Test r2 score</th>\n",
       "      <th>Cross validation score</th>\n",
       "      <th>Runtime</th>\n",
       "    </tr>\n",
       "  </thead>\n",
       "  <tbody>\n",
       "    <tr>\n",
       "      <th>6</th>\n",
       "      <td>CatBoost</td>\n",
       "      <td>529.035073</td>\n",
       "      <td>577.017662</td>\n",
       "      <td>0.982804</td>\n",
       "      <td>0.979547</td>\n",
       "      <td>0.979526</td>\n",
       "      <td>34.910010</td>\n",
       "    </tr>\n",
       "    <tr>\n",
       "      <th>3</th>\n",
       "      <td>XG Boost</td>\n",
       "      <td>512.063672</td>\n",
       "      <td>590.214617</td>\n",
       "      <td>0.983889</td>\n",
       "      <td>0.978600</td>\n",
       "      <td>0.978592</td>\n",
       "      <td>8.428874</td>\n",
       "    </tr>\n",
       "    <tr>\n",
       "      <th>2</th>\n",
       "      <td>Random Forest</td>\n",
       "      <td>229.621823</td>\n",
       "      <td>617.286981</td>\n",
       "      <td>0.996760</td>\n",
       "      <td>0.976592</td>\n",
       "      <td>0.976843</td>\n",
       "      <td>290.280815</td>\n",
       "    </tr>\n",
       "    <tr>\n",
       "      <th>4</th>\n",
       "      <td>KNN Regressor</td>\n",
       "      <td>580.368681</td>\n",
       "      <td>705.203198</td>\n",
       "      <td>0.979305</td>\n",
       "      <td>0.969450</td>\n",
       "      <td>0.968648</td>\n",
       "      <td>23.702269</td>\n",
       "    </tr>\n",
       "    <tr>\n",
       "      <th>5</th>\n",
       "      <td>SGD Regressor</td>\n",
       "      <td>1725.127826</td>\n",
       "      <td>1745.821453</td>\n",
       "      <td>0.817146</td>\n",
       "      <td>0.812766</td>\n",
       "      <td>0.816244</td>\n",
       "      <td>7.759772</td>\n",
       "    </tr>\n",
       "    <tr>\n",
       "      <th>1</th>\n",
       "      <td>Linear Regressio</td>\n",
       "      <td>1723.171659</td>\n",
       "      <td>1748.042547</td>\n",
       "      <td>0.817561</td>\n",
       "      <td>0.812289</td>\n",
       "      <td>0.816510</td>\n",
       "      <td>0.189647</td>\n",
       "    </tr>\n",
       "    <tr>\n",
       "      <th>0</th>\n",
       "      <td>ElasticNet</td>\n",
       "      <td>2005.016165</td>\n",
       "      <td>2007.023545</td>\n",
       "      <td>0.753000</td>\n",
       "      <td>0.752548</td>\n",
       "      <td>0.752971</td>\n",
       "      <td>0.207061</td>\n",
       "    </tr>\n",
       "  </tbody>\n",
       "</table>\n",
       "</div>"
      ],
      "text/plain": [
       "          Algorithm   Train RMSE    Test_RMSE  Train r2 score  Test r2 score  \\\n",
       "6          CatBoost   529.035073   577.017662        0.982804       0.979547   \n",
       "3          XG Boost   512.063672   590.214617        0.983889       0.978600   \n",
       "2     Random Forest   229.621823   617.286981        0.996760       0.976592   \n",
       "4     KNN Regressor   580.368681   705.203198        0.979305       0.969450   \n",
       "5     SGD Regressor  1725.127826  1745.821453        0.817146       0.812766   \n",
       "1  Linear Regressio  1723.171659  1748.042547        0.817561       0.812289   \n",
       "0        ElasticNet  2005.016165  2007.023545        0.753000       0.752548   \n",
       "\n",
       "   Cross validation score     Runtime  \n",
       "6                0.979526   34.910010  \n",
       "3                0.978592    8.428874  \n",
       "2                0.976843  290.280815  \n",
       "4                0.968648   23.702269  \n",
       "5                0.816244    7.759772  \n",
       "1                0.816510    0.189647  \n",
       "0                0.752971    0.207061  "
      ]
     },
     "execution_count": 13,
     "metadata": {},
     "output_type": "execute_result"
    }
   ],
   "source": [
    "# Create table with models and its performance\n",
    "# IMPORTANT NOTE: change metrics and algorithms as you see fit\n",
    "\n",
    "# Define algorithms to try\n",
    "algorithms = []\n",
    "algorithms.append(('ElasticNet', ElasticNet()))\n",
    "algorithms.append(('Linear Regressio', LinearRegression()))\n",
    "algorithms.append(('Random Forest', RandomForestRegressor()))\n",
    "algorithms.append(('XG Boost', XGBRegressor()))\n",
    "algorithms.append(('KNN Regressor', KNeighborsRegressor()))\n",
    "algorithms.append(('SGD Regressor', SGDRegressor()))\n",
    "#algorithms.append(('Genetic', TPOTRegressor()))\n",
    "algorithms.append(('CatBoost', CatBoostRegressor(verbose=False)))\n",
    "\n",
    "# Initialize lists\n",
    "names = []\n",
    "train_rmse = []\n",
    "test_rmse = []\n",
    "train_r2 = []\n",
    "test_r2 = []\n",
    "cross_validation_scores = []\n",
    "runtime = []\n",
    "\n",
    "# Iterate ofer each element in algorithms\n",
    "for name, reg in algorithms:\n",
    "  t1 = time.time()\n",
    "  names.append(name)\n",
    "  reg.fit(X_train, y_train)\n",
    "  train_rmse.append(mean_squared_error(y_train, reg.predict(X_train), squared=False))\n",
    "  test_rmse.append(mean_squared_error(y_test, reg.predict(X_test), squared=False))\n",
    "  train_r2.append(r2_score(y_train, reg.predict(X_train)))\n",
    "  test_r2.append(r2_score(y_test, reg.predict(X_test)))\n",
    "  cross_validation_scores.append(cross_val_score(reg, np.vstack((X_train, X_test)), np.hstack((y_train, y_test))).mean())\n",
    "  t2 = time.time()\n",
    "  runtime.append(t2-t1)\n",
    "\n",
    "# Create comparison dataframe\n",
    "model_comparison = pd.DataFrame({'Algorithm': names,\n",
    "                                 'Train RMSE': train_rmse,\n",
    "                                 'Test_RMSE': test_rmse,\n",
    "                                 'Train r2 score': train_r2,\n",
    "                                 'Test r2 score': test_r2,\n",
    "                                 'Cross validation score': cross_validation_scores,\n",
    "                                 'Runtime': runtime,})\n",
    "\n",
    "# Sort by Test_RMSE\n",
    "model_comparison.sort_values(by=['Test_RMSE'])"
   ]
  },
  {
   "cell_type": "code",
   "execution_count": null,
   "id": "3292ed3d-6b32-4903-a587-4b2a279cb050",
   "metadata": {},
   "outputs": [],
   "source": []
  },
  {
   "cell_type": "markdown",
   "id": "9c523181-14d0-4c0a-abfe-8740b44b1e9b",
   "metadata": {},
   "source": [
    "# Train - Validation - Test:"
   ]
  },
  {
   "cell_type": "code",
   "execution_count": 41,
   "id": "2366458f-c3ad-4fad-8579-b92773da4f4e",
   "metadata": {},
   "outputs": [],
   "source": [
    "# Split dataset and Drop Columns:\n",
    "\n",
    "X = df.drop(columns=['id','price'])\n",
    "\n",
    "y= df['price']\n",
    "\n",
    "X_train, X_rem, y_train, y_rem = train_test_split(X, y, test_size=0.20, random_state = 42)"
   ]
  },
  {
   "cell_type": "code",
   "execution_count": 42,
   "id": "4bd04281-1b88-4ab3-a5f0-cdd1b4ffc6fc",
   "metadata": {},
   "outputs": [],
   "source": [
    "\n",
    "X_val, X_test, y_val, y_test = train_test_split(X_rem, y_rem, test_size=0.50, random_state = 42)"
   ]
  },
  {
   "cell_type": "code",
   "execution_count": 43,
   "id": "a8fde907-2fe0-4416-8611-3df2bcb8730d",
   "metadata": {},
   "outputs": [],
   "source": [
    "#fit and transform\n",
    "X_train = transformer_pipe.fit_transform(X_train,y_train)\n",
    "X_val = transformer_pipe.transform(X_val)\n",
    "X_test = transformer_pipe.transform(X_test)"
   ]
  },
  {
   "cell_type": "code",
   "execution_count": 172,
   "id": "d7a028cc-8185-4636-885a-373736ca863f",
   "metadata": {},
   "outputs": [
    {
     "name": "stdout",
     "output_type": "stream",
     "text": [
      "{'depth': 8, 'l2_leaf_reg': 3, 'learning_rate': 0.01090977882887642, 'random_strength': 1.603782684502414}\n",
      "0.9789516777249258\n"
     ]
    }
   ],
   "source": [
    "# Catboost Parameter Tuning:\n",
    "\n",
    "from sklearn.model_selection import GridSearchCV, RandomizedSearchCV\n",
    "from scipy.stats import uniform, randint\n",
    "\n",
    "distributions = {#'n_estimators': randint(50, 500),\n",
    "                 'depth': randint(4, 9),\n",
    "                 'learning_rate': uniform(0.001,0.01),\n",
    "                 'l2_leaf_reg': randint(2,10),\n",
    "                 'random_strength': uniform(0, 10),\n",
    "                 }\n",
    "\n",
    "cat_obj_rs = CatBoostRegressor(verbose=False,random_state=42)\n",
    "cat_clf_rs = RandomizedSearchCV(cat_obj_rs, distributions, n_iter=250, verbose=False)\n",
    "\n",
    "search = cat_clf_rs.fit(X_val, y_val)\n",
    "\n",
    "print(cat_clf_rs.best_params_)\n",
    "print(cat_clf_rs.best_score_)"
   ]
  },
  {
   "cell_type": "code",
   "execution_count": 44,
   "id": "0e6a3f75-2439-4c92-90fd-483033713e3c",
   "metadata": {},
   "outputs": [],
   "source": [
    "from sklearn.model_selection import GridSearchCV, RandomizedSearchCV\n",
    "from scipy.stats import uniform, randint"
   ]
  },
  {
   "cell_type": "code",
   "execution_count": 45,
   "id": "d0903de8-1ba1-4337-a5c5-0628fe6346b5",
   "metadata": {
    "tags": []
   },
   "outputs": [
    {
     "name": "stdout",
     "output_type": "stream",
     "text": [
      "RandomForestRegressor(max_depth=20, min_samples_leaf=2, min_samples_split=10)\n",
      "{'bootstrap': True, 'max_depth': 20, 'max_features': 'auto', 'min_samples_leaf': 2, 'min_samples_split': 10}\n",
      "0.976010579283342\n"
     ]
    }
   ],
   "source": [
    "param_grid = {  \n",
    "     'bootstrap': [True, False],\n",
    "     'max_depth': [2,6,8,10,20],\n",
    "     'max_features': ['auto', 'sqrt'],\n",
    "     'min_samples_leaf': [1, 2, 4],\n",
    "     'min_samples_split': [2, 5, 10]\n",
    "}\n",
    "\n",
    "grid_search = GridSearchCV(RandomForestRegressor(),\n",
    "                           param_grid=param_grid)\n",
    "grid_search.fit(X_val, y_val)\n",
    "print(grid_search.best_estimator_)\n",
    "print(grid_search.best_params_)\n",
    "print(grid_search.best_score_)"
   ]
  },
  {
   "cell_type": "code",
   "execution_count": 22,
   "id": "a0b240d5-c578-4104-93ce-639d59181361",
   "metadata": {},
   "outputs": [
    {
     "name": "stdout",
     "output_type": "stream",
     "text": [
      "SGDRegressor(alpha=0.01, penalty='l1')\n",
      "{'alpha': 0.01, 'penalty': 'l1'}\n",
      "0.8188303454132113\n"
     ]
    }
   ],
   "source": [
    "param_grid = {  \n",
    "    'alpha': [0.0001, 0.0005, 0.001, 0.005, 0.01], # learning rate\n",
    "    'penalty': ['l2', 'l1', 'elasticnet'],\n",
    "    #'n_iter_no_change': [5, 10, 50, 100, 500, 1000, 1500], # number of epochs\n",
    "    }\n",
    "\n",
    "grid_search_sgd = GridSearchCV(SGDRegressor(),\n",
    "                           param_grid=param_grid)\n",
    "grid_search_sgd.fit(X_val, y_val)\n",
    "print(grid_search_sgd.best_estimator_)\n",
    "print(grid_search_sgd.best_params_)\n",
    "print(grid_search_sgd.best_score_)"
   ]
  },
  {
   "cell_type": "code",
   "execution_count": 34,
   "id": "18ff596d-5bc1-4754-b079-4427deab5eb0",
   "metadata": {},
   "outputs": [
    {
     "name": "stdout",
     "output_type": "stream",
     "text": [
      "KNeighborsRegressor(leaf_size=50, n_neighbors=10, weights='distance')\n",
      "{'algorithm': 'auto', 'leaf_size': 50, 'n_neighbors': 10, 'weights': 'distance'}\n",
      "0.9633153508102579\n"
     ]
    }
   ],
   "source": [
    "param_grid = {  \n",
    "    'n_neighbors': [2,3,4,5,6,7,8,9,10], # learning rate\n",
    "    'weights': ['uniform', 'distance'],\n",
    "    'algorithm': ['auto', 'ball_tree', 'kd_tree', 'brute'],\n",
    "    'leaf_size': [10,20,30,50,100,150]\n",
    "    }\n",
    "\n",
    "grid_search_knn = GridSearchCV(KNeighborsRegressor(),\n",
    "                           param_grid=param_grid)\n",
    "grid_search_knn.fit(X_val, y_val)\n",
    "print(grid_search_knn.best_estimator_)\n",
    "print(grid_search_knn.best_params_)\n",
    "print(grid_search_knn.best_score_)"
   ]
  },
  {
   "cell_type": "code",
   "execution_count": null,
   "id": "6a635eea-45b9-49be-b96a-dbb43d842fc8",
   "metadata": {},
   "outputs": [],
   "source": []
  },
  {
   "cell_type": "code",
   "execution_count": null,
   "id": "b8140ab7-3a26-47f2-9a22-598681573987",
   "metadata": {},
   "outputs": [],
   "source": []
  },
  {
   "cell_type": "code",
   "execution_count": 193,
   "id": "a99def89-0181-4a38-a1c5-98e0dde0c1f0",
   "metadata": {
    "collapsed": true,
    "jupyter": {
     "outputs_hidden": true
    },
    "tags": []
   },
   "outputs": [
    {
     "ename": "TypeError",
     "evalue": "__init__() got an unexpected keyword argument 'min_samples_leaf'",
     "output_type": "error",
     "traceback": [
      "\u001b[1;31m---------------------------------------------------------------------------\u001b[0m",
      "\u001b[1;31mTypeError\u001b[0m                                 Traceback (most recent call last)",
      "\u001b[1;32m~\\AppData\\Local\\Temp\\ipykernel_8004\\495165350.py\u001b[0m in \u001b[0;36m<module>\u001b[1;34m\u001b[0m\n\u001b[0;32m     13\u001b[0m \u001b[0mrf_clf_rs\u001b[0m \u001b[1;33m=\u001b[0m \u001b[0mRandomizedSearchCV\u001b[0m\u001b[1;33m(\u001b[0m\u001b[0mcat_obj_rs\u001b[0m\u001b[1;33m,\u001b[0m \u001b[0mdistributions\u001b[0m\u001b[1;33m,\u001b[0m \u001b[0mn_iter\u001b[0m\u001b[1;33m=\u001b[0m\u001b[1;36m50\u001b[0m\u001b[1;33m,\u001b[0m \u001b[0mverbose\u001b[0m\u001b[1;33m=\u001b[0m\u001b[1;32mFalse\u001b[0m\u001b[1;33m)\u001b[0m\u001b[1;33m\u001b[0m\u001b[1;33m\u001b[0m\u001b[0m\n\u001b[0;32m     14\u001b[0m \u001b[1;33m\u001b[0m\u001b[0m\n\u001b[1;32m---> 15\u001b[1;33m \u001b[0msearch\u001b[0m \u001b[1;33m=\u001b[0m \u001b[0mrf_clf_rs\u001b[0m\u001b[1;33m.\u001b[0m\u001b[0mfit\u001b[0m\u001b[1;33m(\u001b[0m\u001b[0mX_val\u001b[0m\u001b[1;33m,\u001b[0m \u001b[0my_val\u001b[0m\u001b[1;33m)\u001b[0m\u001b[1;33m\u001b[0m\u001b[1;33m\u001b[0m\u001b[0m\n\u001b[0m\u001b[0;32m     16\u001b[0m \u001b[1;33m\u001b[0m\u001b[0m\n\u001b[0;32m     17\u001b[0m \u001b[0mprint\u001b[0m\u001b[1;33m(\u001b[0m\u001b[0mrf_clf_rs\u001b[0m\u001b[1;33m.\u001b[0m\u001b[0mbest_params_\u001b[0m\u001b[1;33m)\u001b[0m\u001b[1;33m\u001b[0m\u001b[1;33m\u001b[0m\u001b[0m\n",
      "\u001b[1;32m~\\anaconda3\\lib\\site-packages\\sklearn\\model_selection\\_search.py\u001b[0m in \u001b[0;36mfit\u001b[1;34m(self, X, y, groups, **fit_params)\u001b[0m\n\u001b[0;32m    919\u001b[0m             \u001b[1;31m# we clone again after setting params in case some\u001b[0m\u001b[1;33m\u001b[0m\u001b[1;33m\u001b[0m\u001b[0m\n\u001b[0;32m    920\u001b[0m             \u001b[1;31m# of the params are estimators as well.\u001b[0m\u001b[1;33m\u001b[0m\u001b[1;33m\u001b[0m\u001b[0m\n\u001b[1;32m--> 921\u001b[1;33m             self.best_estimator_ = clone(\n\u001b[0m\u001b[0;32m    922\u001b[0m                 \u001b[0mclone\u001b[0m\u001b[1;33m(\u001b[0m\u001b[0mbase_estimator\u001b[0m\u001b[1;33m)\u001b[0m\u001b[1;33m.\u001b[0m\u001b[0mset_params\u001b[0m\u001b[1;33m(\u001b[0m\u001b[1;33m**\u001b[0m\u001b[0mself\u001b[0m\u001b[1;33m.\u001b[0m\u001b[0mbest_params_\u001b[0m\u001b[1;33m)\u001b[0m\u001b[1;33m\u001b[0m\u001b[1;33m\u001b[0m\u001b[0m\n\u001b[0;32m    923\u001b[0m             )\n",
      "\u001b[1;32m~\\anaconda3\\lib\\site-packages\\sklearn\\base.py\u001b[0m in \u001b[0;36mclone\u001b[1;34m(estimator, safe)\u001b[0m\n\u001b[0;32m     85\u001b[0m     \u001b[1;32mfor\u001b[0m \u001b[0mname\u001b[0m\u001b[1;33m,\u001b[0m \u001b[0mparam\u001b[0m \u001b[1;32min\u001b[0m \u001b[0mnew_object_params\u001b[0m\u001b[1;33m.\u001b[0m\u001b[0mitems\u001b[0m\u001b[1;33m(\u001b[0m\u001b[1;33m)\u001b[0m\u001b[1;33m:\u001b[0m\u001b[1;33m\u001b[0m\u001b[1;33m\u001b[0m\u001b[0m\n\u001b[0;32m     86\u001b[0m         \u001b[0mnew_object_params\u001b[0m\u001b[1;33m[\u001b[0m\u001b[0mname\u001b[0m\u001b[1;33m]\u001b[0m \u001b[1;33m=\u001b[0m \u001b[0mclone\u001b[0m\u001b[1;33m(\u001b[0m\u001b[0mparam\u001b[0m\u001b[1;33m,\u001b[0m \u001b[0msafe\u001b[0m\u001b[1;33m=\u001b[0m\u001b[1;32mFalse\u001b[0m\u001b[1;33m)\u001b[0m\u001b[1;33m\u001b[0m\u001b[1;33m\u001b[0m\u001b[0m\n\u001b[1;32m---> 87\u001b[1;33m     \u001b[0mnew_object\u001b[0m \u001b[1;33m=\u001b[0m \u001b[0mklass\u001b[0m\u001b[1;33m(\u001b[0m\u001b[1;33m**\u001b[0m\u001b[0mnew_object_params\u001b[0m\u001b[1;33m)\u001b[0m\u001b[1;33m\u001b[0m\u001b[1;33m\u001b[0m\u001b[0m\n\u001b[0m\u001b[0;32m     88\u001b[0m     \u001b[0mparams_set\u001b[0m \u001b[1;33m=\u001b[0m \u001b[0mnew_object\u001b[0m\u001b[1;33m.\u001b[0m\u001b[0mget_params\u001b[0m\u001b[1;33m(\u001b[0m\u001b[0mdeep\u001b[0m\u001b[1;33m=\u001b[0m\u001b[1;32mFalse\u001b[0m\u001b[1;33m)\u001b[0m\u001b[1;33m\u001b[0m\u001b[1;33m\u001b[0m\u001b[0m\n\u001b[0;32m     89\u001b[0m \u001b[1;33m\u001b[0m\u001b[0m\n",
      "\u001b[1;31mTypeError\u001b[0m: __init__() got an unexpected keyword argument 'min_samples_leaf'"
     ]
    }
   ],
   "source": [
    "# Random Forest Parameter Tuning:\n",
    "\n",
    "from sklearn.model_selection import GridSearchCV, RandomizedSearchCV\n",
    "from scipy.stats import uniform, randint\n",
    "\n",
    "distributions = {'max_depth': randint(4, 9),\n",
    "                 'learning_rate': uniform(0.001,0.01),\n",
    "                 'min_samples_split': randint(2, 10),\n",
    "                 'min_samples_leaf': randint(2, 10),\n",
    "                 }\n",
    "\n",
    "rf_obj_rs = LinearRegression()(verbose=False,random_state=42)\n",
    "rf_clf_rs = RandomizedSearchCV(cat_obj_rs, distributions, n_iter=50, verbose=False)\n",
    "\n",
    "search = rf_clf_rs.fit(X_val, y_val)\n",
    "\n",
    "print(rf_clf_rs.best_params_)\n",
    "print(rf_clf_rs.best_score_)\n",
    "\n",
    "#max_leaf_nodes, max_depth and min_samples_leaf"
   ]
  },
  {
   "cell_type": "code",
   "execution_count": 191,
   "id": "4e17f002-cced-451f-95ee-1b0ff0dcd1d6",
   "metadata": {},
   "outputs": [
    {
     "name": "stdout",
     "output_type": "stream",
     "text": [
      "Requirement already satisfied: scipy in c:\\users\\nvk\\anaconda3\\lib\\site-packages (1.9.1)\n",
      "Requirement already satisfied: numpy<1.25.0,>=1.18.5 in c:\\users\\nvk\\anaconda3\\lib\\site-packages (from scipy) (1.21.5)\n"
     ]
    }
   ],
   "source": [
    "!pip install scipy"
   ]
  },
  {
   "cell_type": "code",
   "execution_count": null,
   "id": "10f01402-4e1e-4997-ab97-24f5a2092ac2",
   "metadata": {},
   "outputs": [],
   "source": []
  },
  {
   "cell_type": "markdown",
   "id": "d778d4d5-9b5c-4797-85e7-8f2874bd38a0",
   "metadata": {},
   "source": [
    "# Best Model #1;\n",
    "\n",
    "Split 70-30"
   ]
  },
  {
   "cell_type": "code",
   "execution_count": 73,
   "id": "eb9d3c92-ef0a-48a5-815c-9e8142a6d908",
   "metadata": {},
   "outputs": [
    {
     "data": {
      "text/plain": [
       "0.9796175745301323"
      ]
     },
     "execution_count": 73,
     "metadata": {},
     "output_type": "execute_result"
    }
   ],
   "source": [
    "# define your object using default hyperameters\n",
    "\n",
    "catb_reg = CatBoostRegressor(depth= 11, l2_leaf_reg= 3, learning_rate= 0.01037204787019528, random_strength= 0.37631316886909794, verbose=False)\n",
    "\n",
    "# fit your training data\n",
    "\n",
    "catb_reg.fit(X_train, y_train)\n",
    "catb_reg.score(X_test, y_test)"
   ]
  },
  {
   "cell_type": "code",
   "execution_count": null,
   "id": "2145fbbc-c5f1-45ee-9e50-0f7945e2c6ad",
   "metadata": {},
   "outputs": [],
   "source": []
  },
  {
   "cell_type": "code",
   "execution_count": 154,
   "id": "0405e0ee-b17f-46cc-b204-a2d86ffad67e",
   "metadata": {},
   "outputs": [
    {
     "data": {
      "text/plain": [
       "0.9792494590249877"
      ]
     },
     "execution_count": 154,
     "metadata": {},
     "output_type": "execute_result"
    }
   ],
   "source": [
    "# define your object using default hyperameters\n",
    "\n",
    "catb_reg = CatBoostRegressor(depth= 11, l2_leaf_reg= 3, learning_rate= 0.01037204787019528, random_strength= 0.37631316886909794, verbose=False, random_state=42)\n",
    "\n",
    "# fit your training data\n",
    "\n",
    "catb_reg.fit(X_train, y_train)\n",
    "catb_reg.score(X_test, y_test)"
   ]
  },
  {
   "cell_type": "code",
   "execution_count": 151,
   "id": "87211317-3734-4ac1-ba4b-dfe56f47781c",
   "metadata": {},
   "outputs": [
    {
     "data": {
      "text/plain": [
       "579.0562968058885"
      ]
     },
     "execution_count": 151,
     "metadata": {},
     "output_type": "execute_result"
    }
   ],
   "source": [
    "catb_reg = catb_reg.predict(X_test)\n",
    "\n",
    "rsme_test = mean_squared_error(y_test, catb_reg, squared=False)\n",
    "rsme_test"
   ]
  },
  {
   "cell_type": "code",
   "execution_count": null,
   "id": "ff1dc64d-1d46-489c-8ec8-56e839d94ef5",
   "metadata": {},
   "outputs": [],
   "source": []
  },
  {
   "cell_type": "markdown",
   "id": "7c76ad71-5306-44fb-aeee-6e8aaeb62214",
   "metadata": {},
   "source": [
    "# Best Model - #2:"
   ]
  },
  {
   "cell_type": "code",
   "execution_count": 13,
   "id": "c54e8ce2-e51e-4026-b29d-83cd6c146ebc",
   "metadata": {},
   "outputs": [
    {
     "data": {
      "text/plain": [
       "0.9796080722804885"
      ]
     },
     "execution_count": 13,
     "metadata": {},
     "output_type": "execute_result"
    }
   ],
   "source": [
    "# 85-15 + LinReg + CTBoost + KNN Reg\n",
    "\n",
    "base_models = []\n",
    "\n",
    "base_models.append(('lr', LinearRegression()))\n",
    "base_models.append(('ctb', CatBoostRegressor(depth= 11, l2_leaf_reg= 3, learning_rate= 0.01037204787019528, random_strength= 0.37631316886909794, verbose=False, random_state=42))) \n",
    "base_models.append(('rf', KNeighborsRegressor(algorithm= 'auto', leaf_size= 50,n_neighbors= 10, weights= 'distance')))\n",
    "\n",
    "meta_model = LinearRegression()\n",
    "\n",
    "reg_model_stack = StackingRegressor(estimators=base_models, final_estimator=meta_model)\n",
    "\n",
    "reg_model_stack.fit(X_train, y_train)\n",
    "reg_model_stack.score(X_test, y_test)"
   ]
  },
  {
   "cell_type": "code",
   "execution_count": null,
   "id": "4b071e4a-c2e9-4378-b3b4-3553c1112d16",
   "metadata": {},
   "outputs": [],
   "source": []
  },
  {
   "cell_type": "markdown",
   "id": "9639d7a8-c934-47b2-89a5-f84e2f513370",
   "metadata": {},
   "source": [
    "# Best Model #3"
   ]
  },
  {
   "cell_type": "code",
   "execution_count": 101,
   "id": "c928e99d-8de8-4d33-b5cf-bd4b2f820b2b",
   "metadata": {},
   "outputs": [
    {
     "data": {
      "text/plain": [
       "0.9805724432216615"
      ]
     },
     "execution_count": 101,
     "metadata": {},
     "output_type": "execute_result"
    }
   ],
   "source": [
    "# 85-15\n",
    "\n",
    "base_models = []\n",
    "\n",
    "base_models.append(('lr', LinearRegression()))\n",
    "base_models.append(('ctb', CatBoostRegressor(depth= 11, l2_leaf_reg= 3, learning_rate= 0.01037204787019528, random_strength= 0.37631316886909794, verbose=False, random_state=42))) \n",
    "base_models.append(('rf', RandomForestRegressor()))\n",
    "\n",
    "meta_model = LinearRegression()\n",
    "\n",
    "reg_model_stack2 = StackingRegressor(estimators=base_models, final_estimator=meta_model)\n",
    "\n",
    "reg_model_stack2.fit(X_train, y_train)\n",
    "reg_model_stack2.score(X_test, y_test)"
   ]
  },
  {
   "cell_type": "code",
   "execution_count": 102,
   "id": "602ea355-9ae6-4c1d-8b92-bdcdf68378f7",
   "metadata": {},
   "outputs": [
    {
     "data": {
      "text/plain": [
       "567.0328971840235"
      ]
     },
     "execution_count": 102,
     "metadata": {},
     "output_type": "execute_result"
    }
   ],
   "source": [
    "reg_model_stack2.predict(X_test)\n",
    "\n",
    "rsme_test = mean_squared_error(y_test, reg_model_stack2.predict(X_test), squared=False)\n",
    "rsme_test"
   ]
  },
  {
   "cell_type": "markdown",
   "id": "4631dfcc-1fc7-40c5-b450-6488a56b223e",
   "metadata": {},
   "source": [
    "# Best Model #4"
   ]
  },
  {
   "cell_type": "code",
   "execution_count": 99,
   "id": "7cfbbb6f-9d06-4170-abbe-7bc6c192caa0",
   "metadata": {},
   "outputs": [
    {
     "data": {
      "text/plain": [
       "0.9803953972306763"
      ]
     },
     "execution_count": 99,
     "metadata": {},
     "output_type": "execute_result"
    }
   ],
   "source": [
    "# 85-15\n",
    "\n",
    "base_models = []\n",
    "\n",
    "base_models.append(('lr', LinearRegression()))\n",
    "base_models.append(('ctb', CatBoostRegressor(n_estimators=10000, verbose=False))) \n",
    "base_models.append(('rf', RandomForestRegressor(max_depth=20, min_samples_leaf=2, min_samples_split=10)))\n",
    "\n",
    "meta_model = LinearRegression()\n",
    "\n",
    "reg_model_stack2 = StackingRegressor(estimators=base_models, final_estimator=meta_model)\n",
    "\n",
    "reg_model_stack2.fit(X_train, y_train)\n",
    "reg_model_stack2.score(X_test, y_test)"
   ]
  },
  {
   "cell_type": "code",
   "execution_count": 100,
   "id": "dd05d8a9-7985-4500-b918-1144be1066dd",
   "metadata": {},
   "outputs": [
    {
     "data": {
      "text/plain": [
       "569.610761699019"
      ]
     },
     "execution_count": 100,
     "metadata": {},
     "output_type": "execute_result"
    }
   ],
   "source": [
    "reg_model_stack2.predict(X_test)\n",
    "\n",
    "rsme_test = mean_squared_error(y_test, reg_model_stack2.predict(X_test), squared=False)\n",
    "rsme_test"
   ]
  },
  {
   "cell_type": "code",
   "execution_count": null,
   "id": "f1417c06-afd1-4c2f-b51d-66999b780647",
   "metadata": {},
   "outputs": [],
   "source": [
    "max_depth=20, min_samples_leaf=2, min_samples_split=10"
   ]
  },
  {
   "cell_type": "code",
   "execution_count": null,
   "id": "85ac0216-1493-4fcf-b772-35abd8f7c26e",
   "metadata": {},
   "outputs": [],
   "source": []
  },
  {
   "cell_type": "code",
   "execution_count": null,
   "id": "ac33a847-f7fd-4809-914f-b4267de07d4a",
   "metadata": {},
   "outputs": [],
   "source": []
  },
  {
   "cell_type": "markdown",
   "id": "f26425b4-9629-415b-a41c-c57a846ca6ae",
   "metadata": {},
   "source": [
    "# Model 5"
   ]
  },
  {
   "cell_type": "code",
   "execution_count": 72,
   "id": "9d0d7c08-b483-4b93-87a0-ce9f67d56408",
   "metadata": {},
   "outputs": [
    {
     "name": "stdout",
     "output_type": "stream",
     "text": [
      "Training on fold [0/2]\n",
      "\n",
      "bestTest = 587.0647283\n",
      "bestIteration = 999\n",
      "\n",
      "Training on fold [1/2]\n",
      "\n",
      "bestTest = 570.5150454\n",
      "bestIteration = 995\n",
      "\n"
     ]
    }
   ],
   "source": [
    "from catboost import Pool, cv\n",
    "\n",
    "cv_data = X_train\n",
    "\n",
    "labels = y_train\n",
    "\n",
    "\n",
    "cv_dataset = Pool(data=cv_data,\n",
    "                  label=labels,\n",
    "                  )\n",
    "\n",
    "params = {'depth': 11, \n",
    "          'l2_leaf_reg': 3, \n",
    "          'learning_rate': 0.01037204787019528, \n",
    "          'random_strength': 0.37631316886909794,\n",
    "          \"loss_function\": 'RMSE',\n",
    "          \"verbose\": False}\n",
    "\n",
    "scores = cv(cv_dataset,\n",
    "            params,\n",
    "            fold_count=2,\n",
    "           return_models=True,\n",
    "           verbose=False)\n"
   ]
  },
  {
   "cell_type": "code",
   "execution_count": 67,
   "id": "624845b5-edb7-43ae-bbc1-38886e60e279",
   "metadata": {},
   "outputs": [
    {
     "ename": "NameError",
     "evalue": "name 'cv_results' is not defined",
     "output_type": "error",
     "traceback": [
      "\u001b[1;31m---------------------------------------------------------------------------\u001b[0m",
      "\u001b[1;31mNameError\u001b[0m                                 Traceback (most recent call last)",
      "\u001b[1;32m~\\AppData\\Local\\Temp\\ipykernel_15524\\3625633923.py\u001b[0m in \u001b[0;36m<module>\u001b[1;34m\u001b[0m\n\u001b[1;32m----> 1\u001b[1;33m \u001b[0mcv_results\u001b[0m\u001b[1;33m\u001b[0m\u001b[1;33m\u001b[0m\u001b[0m\n\u001b[0m",
      "\u001b[1;31mNameError\u001b[0m: name 'cv_results' is not defined"
     ]
    }
   ],
   "source": []
  },
  {
   "cell_type": "markdown",
   "id": "3f40415b-2007-488c-9642-6e6196e3bb70",
   "metadata": {},
   "source": [
    "# Final Predictions for test.csv:"
   ]
  },
  {
   "cell_type": "code",
   "execution_count": 90,
   "id": "048c46ef-a39e-4bd8-8404-1f210a05de47",
   "metadata": {},
   "outputs": [
    {
     "data": {
      "text/html": [
       "<div>\n",
       "<style scoped>\n",
       "    .dataframe tbody tr th:only-of-type {\n",
       "        vertical-align: middle;\n",
       "    }\n",
       "\n",
       "    .dataframe tbody tr th {\n",
       "        vertical-align: top;\n",
       "    }\n",
       "\n",
       "    .dataframe thead th {\n",
       "        text-align: right;\n",
       "    }\n",
       "</style>\n",
       "<table border=\"1\" class=\"dataframe\">\n",
       "  <thead>\n",
       "    <tr style=\"text-align: right;\">\n",
       "      <th></th>\n",
       "      <th>carat</th>\n",
       "      <th>cut</th>\n",
       "      <th>color</th>\n",
       "      <th>clarity</th>\n",
       "      <th>depth</th>\n",
       "      <th>table</th>\n",
       "      <th>x</th>\n",
       "      <th>y</th>\n",
       "      <th>z</th>\n",
       "    </tr>\n",
       "  </thead>\n",
       "  <tbody>\n",
       "    <tr>\n",
       "      <th>0</th>\n",
       "      <td>0.35</td>\n",
       "      <td>Ideal</td>\n",
       "      <td>D</td>\n",
       "      <td>VS2</td>\n",
       "      <td>62.3</td>\n",
       "      <td>56.0</td>\n",
       "      <td>4.51</td>\n",
       "      <td>4.54</td>\n",
       "      <td>2.82</td>\n",
       "    </tr>\n",
       "    <tr>\n",
       "      <th>1</th>\n",
       "      <td>0.77</td>\n",
       "      <td>Very Good</td>\n",
       "      <td>F</td>\n",
       "      <td>SI2</td>\n",
       "      <td>62.8</td>\n",
       "      <td>56.0</td>\n",
       "      <td>5.83</td>\n",
       "      <td>5.87</td>\n",
       "      <td>3.68</td>\n",
       "    </tr>\n",
       "    <tr>\n",
       "      <th>2</th>\n",
       "      <td>0.71</td>\n",
       "      <td>Ideal</td>\n",
       "      <td>I</td>\n",
       "      <td>VS2</td>\n",
       "      <td>61.9</td>\n",
       "      <td>53.0</td>\n",
       "      <td>5.77</td>\n",
       "      <td>5.74</td>\n",
       "      <td>3.55</td>\n",
       "    </tr>\n",
       "    <tr>\n",
       "      <th>3</th>\n",
       "      <td>0.33</td>\n",
       "      <td>Ideal</td>\n",
       "      <td>G</td>\n",
       "      <td>VVS2</td>\n",
       "      <td>61.6</td>\n",
       "      <td>55.0</td>\n",
       "      <td>4.44</td>\n",
       "      <td>4.42</td>\n",
       "      <td>2.73</td>\n",
       "    </tr>\n",
       "    <tr>\n",
       "      <th>4</th>\n",
       "      <td>1.20</td>\n",
       "      <td>Very Good</td>\n",
       "      <td>I</td>\n",
       "      <td>VS2</td>\n",
       "      <td>62.7</td>\n",
       "      <td>56.0</td>\n",
       "      <td>6.75</td>\n",
       "      <td>6.79</td>\n",
       "      <td>4.24</td>\n",
       "    </tr>\n",
       "  </tbody>\n",
       "</table>\n",
       "</div>"
      ],
      "text/plain": [
       "   carat        cut color clarity  depth  table     x     y     z\n",
       "0   0.35      Ideal     D     VS2   62.3   56.0  4.51  4.54  2.82\n",
       "1   0.77  Very Good     F     SI2   62.8   56.0  5.83  5.87  3.68\n",
       "2   0.71      Ideal     I     VS2   61.9   53.0  5.77  5.74  3.55\n",
       "3   0.33      Ideal     G    VVS2   61.6   55.0  4.44  4.42  2.73\n",
       "4   1.20  Very Good     I     VS2   62.7   56.0  6.75  6.79  4.24"
      ]
     },
     "execution_count": 90,
     "metadata": {},
     "output_type": "execute_result"
    }
   ],
   "source": [
    "df_test = pd.read_csv('Datasets/test.csv')\n",
    "X_to_test = df_test.drop(columns='id')\n",
    "X_to_test.head()"
   ]
  },
  {
   "cell_type": "code",
   "execution_count": 91,
   "id": "0c99c1a4-5cc7-49e9-9a5d-d6b69884da6d",
   "metadata": {},
   "outputs": [],
   "source": [
    "#Data transformations:\n",
    "X_to_test = transformer_pipe.transform(X_to_test)"
   ]
  },
  {
   "cell_type": "code",
   "execution_count": 92,
   "id": "6d19cd42-6c9c-4595-859f-bbac07e3cf0b",
   "metadata": {},
   "outputs": [],
   "source": [
    "# Predictions using my model:\n",
    "\n",
    "y_pred = catb_reg.predict(X_to_test)"
   ]
  },
  {
   "cell_type": "code",
   "execution_count": 93,
   "id": "d180c51b-1599-4779-afce-1661574c1dd2",
   "metadata": {},
   "outputs": [
    {
     "data": {
      "text/plain": [
       "array([ 888.50380084, 2599.57886941, 2363.89488675, ..., 7751.24096594,\n",
       "       6759.70391039, 4219.10733882])"
      ]
     },
     "execution_count": 93,
     "metadata": {},
     "output_type": "execute_result"
    }
   ],
   "source": [
    "y_pred"
   ]
  },
  {
   "cell_type": "code",
   "execution_count": 94,
   "id": "5f51b478-aafe-474e-be22-8969e3ee0786",
   "metadata": {},
   "outputs": [],
   "source": [
    "output_price = pd.DataFrame(y_pred, columns=['price']) #elbow curve "
   ]
  },
  {
   "cell_type": "code",
   "execution_count": 95,
   "id": "5edd2e4b-0b93-4980-96a6-8e98d22ba6de",
   "metadata": {},
   "outputs": [
    {
     "data": {
      "text/html": [
       "<div>\n",
       "<style scoped>\n",
       "    .dataframe tbody tr th:only-of-type {\n",
       "        vertical-align: middle;\n",
       "    }\n",
       "\n",
       "    .dataframe tbody tr th {\n",
       "        vertical-align: top;\n",
       "    }\n",
       "\n",
       "    .dataframe thead th {\n",
       "        text-align: right;\n",
       "    }\n",
       "</style>\n",
       "<table border=\"1\" class=\"dataframe\">\n",
       "  <thead>\n",
       "    <tr style=\"text-align: right;\">\n",
       "      <th></th>\n",
       "      <th>price</th>\n",
       "    </tr>\n",
       "  </thead>\n",
       "  <tbody>\n",
       "    <tr>\n",
       "      <th>0</th>\n",
       "      <td>888.503801</td>\n",
       "    </tr>\n",
       "    <tr>\n",
       "      <th>1</th>\n",
       "      <td>2599.578869</td>\n",
       "    </tr>\n",
       "    <tr>\n",
       "      <th>2</th>\n",
       "      <td>2363.894887</td>\n",
       "    </tr>\n",
       "    <tr>\n",
       "      <th>3</th>\n",
       "      <td>842.430688</td>\n",
       "    </tr>\n",
       "    <tr>\n",
       "      <th>4</th>\n",
       "      <td>5886.924016</td>\n",
       "    </tr>\n",
       "    <tr>\n",
       "      <th>...</th>\n",
       "      <td>...</td>\n",
       "    </tr>\n",
       "    <tr>\n",
       "      <th>129045</th>\n",
       "      <td>3898.460743</td>\n",
       "    </tr>\n",
       "    <tr>\n",
       "      <th>129046</th>\n",
       "      <td>2570.210590</td>\n",
       "    </tr>\n",
       "    <tr>\n",
       "      <th>129047</th>\n",
       "      <td>7751.240966</td>\n",
       "    </tr>\n",
       "    <tr>\n",
       "      <th>129048</th>\n",
       "      <td>6759.703910</td>\n",
       "    </tr>\n",
       "    <tr>\n",
       "      <th>129049</th>\n",
       "      <td>4219.107339</td>\n",
       "    </tr>\n",
       "  </tbody>\n",
       "</table>\n",
       "<p>129050 rows × 1 columns</p>\n",
       "</div>"
      ],
      "text/plain": [
       "              price\n",
       "0        888.503801\n",
       "1       2599.578869\n",
       "2       2363.894887\n",
       "3        842.430688\n",
       "4       5886.924016\n",
       "...             ...\n",
       "129045  3898.460743\n",
       "129046  2570.210590\n",
       "129047  7751.240966\n",
       "129048  6759.703910\n",
       "129049  4219.107339\n",
       "\n",
       "[129050 rows x 1 columns]"
      ]
     },
     "execution_count": 95,
     "metadata": {},
     "output_type": "execute_result"
    }
   ],
   "source": [
    "output_price"
   ]
  },
  {
   "cell_type": "code",
   "execution_count": 96,
   "id": "bfc46149-62d3-4b77-81b8-07172ccea561",
   "metadata": {},
   "outputs": [
    {
     "data": {
      "text/html": [
       "<div>\n",
       "<style scoped>\n",
       "    .dataframe tbody tr th:only-of-type {\n",
       "        vertical-align: middle;\n",
       "    }\n",
       "\n",
       "    .dataframe tbody tr th {\n",
       "        vertical-align: top;\n",
       "    }\n",
       "\n",
       "    .dataframe thead th {\n",
       "        text-align: right;\n",
       "    }\n",
       "</style>\n",
       "<table border=\"1\" class=\"dataframe\">\n",
       "  <thead>\n",
       "    <tr style=\"text-align: right;\">\n",
       "      <th></th>\n",
       "      <th>id</th>\n",
       "      <th>carat</th>\n",
       "      <th>cut</th>\n",
       "      <th>color</th>\n",
       "      <th>clarity</th>\n",
       "      <th>depth</th>\n",
       "      <th>table</th>\n",
       "      <th>x</th>\n",
       "      <th>y</th>\n",
       "      <th>z</th>\n",
       "      <th>price</th>\n",
       "    </tr>\n",
       "  </thead>\n",
       "  <tbody>\n",
       "    <tr>\n",
       "      <th>0</th>\n",
       "      <td>193573</td>\n",
       "      <td>0.35</td>\n",
       "      <td>Ideal</td>\n",
       "      <td>D</td>\n",
       "      <td>VS2</td>\n",
       "      <td>62.3</td>\n",
       "      <td>56.0</td>\n",
       "      <td>4.51</td>\n",
       "      <td>4.54</td>\n",
       "      <td>2.82</td>\n",
       "      <td>888.503801</td>\n",
       "    </tr>\n",
       "    <tr>\n",
       "      <th>1</th>\n",
       "      <td>193574</td>\n",
       "      <td>0.77</td>\n",
       "      <td>Very Good</td>\n",
       "      <td>F</td>\n",
       "      <td>SI2</td>\n",
       "      <td>62.8</td>\n",
       "      <td>56.0</td>\n",
       "      <td>5.83</td>\n",
       "      <td>5.87</td>\n",
       "      <td>3.68</td>\n",
       "      <td>2599.578869</td>\n",
       "    </tr>\n",
       "    <tr>\n",
       "      <th>2</th>\n",
       "      <td>193575</td>\n",
       "      <td>0.71</td>\n",
       "      <td>Ideal</td>\n",
       "      <td>I</td>\n",
       "      <td>VS2</td>\n",
       "      <td>61.9</td>\n",
       "      <td>53.0</td>\n",
       "      <td>5.77</td>\n",
       "      <td>5.74</td>\n",
       "      <td>3.55</td>\n",
       "      <td>2363.894887</td>\n",
       "    </tr>\n",
       "    <tr>\n",
       "      <th>3</th>\n",
       "      <td>193576</td>\n",
       "      <td>0.33</td>\n",
       "      <td>Ideal</td>\n",
       "      <td>G</td>\n",
       "      <td>VVS2</td>\n",
       "      <td>61.6</td>\n",
       "      <td>55.0</td>\n",
       "      <td>4.44</td>\n",
       "      <td>4.42</td>\n",
       "      <td>2.73</td>\n",
       "      <td>842.430688</td>\n",
       "    </tr>\n",
       "    <tr>\n",
       "      <th>4</th>\n",
       "      <td>193577</td>\n",
       "      <td>1.20</td>\n",
       "      <td>Very Good</td>\n",
       "      <td>I</td>\n",
       "      <td>VS2</td>\n",
       "      <td>62.7</td>\n",
       "      <td>56.0</td>\n",
       "      <td>6.75</td>\n",
       "      <td>6.79</td>\n",
       "      <td>4.24</td>\n",
       "      <td>5886.924016</td>\n",
       "    </tr>\n",
       "    <tr>\n",
       "      <th>...</th>\n",
       "      <td>...</td>\n",
       "      <td>...</td>\n",
       "      <td>...</td>\n",
       "      <td>...</td>\n",
       "      <td>...</td>\n",
       "      <td>...</td>\n",
       "      <td>...</td>\n",
       "      <td>...</td>\n",
       "      <td>...</td>\n",
       "      <td>...</td>\n",
       "      <td>...</td>\n",
       "    </tr>\n",
       "    <tr>\n",
       "      <th>129045</th>\n",
       "      <td>322618</td>\n",
       "      <td>0.72</td>\n",
       "      <td>Ideal</td>\n",
       "      <td>D</td>\n",
       "      <td>VVS2</td>\n",
       "      <td>62.0</td>\n",
       "      <td>56.0</td>\n",
       "      <td>5.75</td>\n",
       "      <td>5.78</td>\n",
       "      <td>3.57</td>\n",
       "      <td>3898.460743</td>\n",
       "    </tr>\n",
       "    <tr>\n",
       "      <th>129046</th>\n",
       "      <td>322619</td>\n",
       "      <td>0.70</td>\n",
       "      <td>Premium</td>\n",
       "      <td>D</td>\n",
       "      <td>SI1</td>\n",
       "      <td>59.6</td>\n",
       "      <td>62.0</td>\n",
       "      <td>5.77</td>\n",
       "      <td>5.74</td>\n",
       "      <td>3.43</td>\n",
       "      <td>2570.210590</td>\n",
       "    </tr>\n",
       "    <tr>\n",
       "      <th>129047</th>\n",
       "      <td>322620</td>\n",
       "      <td>1.01</td>\n",
       "      <td>Premium</td>\n",
       "      <td>G</td>\n",
       "      <td>VVS2</td>\n",
       "      <td>62.3</td>\n",
       "      <td>58.0</td>\n",
       "      <td>6.44</td>\n",
       "      <td>6.41</td>\n",
       "      <td>4.01</td>\n",
       "      <td>7751.240966</td>\n",
       "    </tr>\n",
       "    <tr>\n",
       "      <th>129048</th>\n",
       "      <td>322621</td>\n",
       "      <td>1.35</td>\n",
       "      <td>Ideal</td>\n",
       "      <td>D</td>\n",
       "      <td>I1</td>\n",
       "      <td>62.0</td>\n",
       "      <td>56.0</td>\n",
       "      <td>7.05</td>\n",
       "      <td>7.08</td>\n",
       "      <td>4.38</td>\n",
       "      <td>6759.703910</td>\n",
       "    </tr>\n",
       "    <tr>\n",
       "      <th>129049</th>\n",
       "      <td>322622</td>\n",
       "      <td>1.07</td>\n",
       "      <td>Premium</td>\n",
       "      <td>H</td>\n",
       "      <td>SI2</td>\n",
       "      <td>62.6</td>\n",
       "      <td>60.0</td>\n",
       "      <td>6.49</td>\n",
       "      <td>6.45</td>\n",
       "      <td>4.06</td>\n",
       "      <td>4219.107339</td>\n",
       "    </tr>\n",
       "  </tbody>\n",
       "</table>\n",
       "<p>129050 rows × 11 columns</p>\n",
       "</div>"
      ],
      "text/plain": [
       "            id  carat        cut color clarity  depth  table     x     y  \\\n",
       "0       193573   0.35      Ideal     D     VS2   62.3   56.0  4.51  4.54   \n",
       "1       193574   0.77  Very Good     F     SI2   62.8   56.0  5.83  5.87   \n",
       "2       193575   0.71      Ideal     I     VS2   61.9   53.0  5.77  5.74   \n",
       "3       193576   0.33      Ideal     G    VVS2   61.6   55.0  4.44  4.42   \n",
       "4       193577   1.20  Very Good     I     VS2   62.7   56.0  6.75  6.79   \n",
       "...        ...    ...        ...   ...     ...    ...    ...   ...   ...   \n",
       "129045  322618   0.72      Ideal     D    VVS2   62.0   56.0  5.75  5.78   \n",
       "129046  322619   0.70    Premium     D     SI1   59.6   62.0  5.77  5.74   \n",
       "129047  322620   1.01    Premium     G    VVS2   62.3   58.0  6.44  6.41   \n",
       "129048  322621   1.35      Ideal     D      I1   62.0   56.0  7.05  7.08   \n",
       "129049  322622   1.07    Premium     H     SI2   62.6   60.0  6.49  6.45   \n",
       "\n",
       "           z        price  \n",
       "0       2.82   888.503801  \n",
       "1       3.68  2599.578869  \n",
       "2       3.55  2363.894887  \n",
       "3       2.73   842.430688  \n",
       "4       4.24  5886.924016  \n",
       "...      ...          ...  \n",
       "129045  3.57  3898.460743  \n",
       "129046  3.43  2570.210590  \n",
       "129047  4.01  7751.240966  \n",
       "129048  4.38  6759.703910  \n",
       "129049  4.06  4219.107339  \n",
       "\n",
       "[129050 rows x 11 columns]"
      ]
     },
     "execution_count": 96,
     "metadata": {},
     "output_type": "execute_result"
    }
   ],
   "source": [
    "output_price['price'] = pd.DataFrame(y_pred) #elbow curve \n",
    "\n",
    "df_out = pd.concat([df_test.reset_index(drop='Tru‌e'),output_price['price'].reset_index(drop='Tru‌e')],axis=1)\n",
    "df_out"
   ]
  },
  {
   "cell_type": "code",
   "execution_count": 97,
   "id": "ca98e17a-f902-4a15-8111-a0dd3a898e11",
   "metadata": {},
   "outputs": [
    {
     "data": {
      "text/html": [
       "<div>\n",
       "<style scoped>\n",
       "    .dataframe tbody tr th:only-of-type {\n",
       "        vertical-align: middle;\n",
       "    }\n",
       "\n",
       "    .dataframe tbody tr th {\n",
       "        vertical-align: top;\n",
       "    }\n",
       "\n",
       "    .dataframe thead th {\n",
       "        text-align: right;\n",
       "    }\n",
       "</style>\n",
       "<table border=\"1\" class=\"dataframe\">\n",
       "  <thead>\n",
       "    <tr style=\"text-align: right;\">\n",
       "      <th></th>\n",
       "      <th>id</th>\n",
       "      <th>price</th>\n",
       "    </tr>\n",
       "  </thead>\n",
       "  <tbody>\n",
       "    <tr>\n",
       "      <th>0</th>\n",
       "      <td>193573</td>\n",
       "      <td>888.503801</td>\n",
       "    </tr>\n",
       "    <tr>\n",
       "      <th>1</th>\n",
       "      <td>193574</td>\n",
       "      <td>2599.578869</td>\n",
       "    </tr>\n",
       "    <tr>\n",
       "      <th>2</th>\n",
       "      <td>193575</td>\n",
       "      <td>2363.894887</td>\n",
       "    </tr>\n",
       "    <tr>\n",
       "      <th>3</th>\n",
       "      <td>193576</td>\n",
       "      <td>842.430688</td>\n",
       "    </tr>\n",
       "    <tr>\n",
       "      <th>4</th>\n",
       "      <td>193577</td>\n",
       "      <td>5886.924016</td>\n",
       "    </tr>\n",
       "    <tr>\n",
       "      <th>...</th>\n",
       "      <td>...</td>\n",
       "      <td>...</td>\n",
       "    </tr>\n",
       "    <tr>\n",
       "      <th>129045</th>\n",
       "      <td>322618</td>\n",
       "      <td>3898.460743</td>\n",
       "    </tr>\n",
       "    <tr>\n",
       "      <th>129046</th>\n",
       "      <td>322619</td>\n",
       "      <td>2570.210590</td>\n",
       "    </tr>\n",
       "    <tr>\n",
       "      <th>129047</th>\n",
       "      <td>322620</td>\n",
       "      <td>7751.240966</td>\n",
       "    </tr>\n",
       "    <tr>\n",
       "      <th>129048</th>\n",
       "      <td>322621</td>\n",
       "      <td>6759.703910</td>\n",
       "    </tr>\n",
       "    <tr>\n",
       "      <th>129049</th>\n",
       "      <td>322622</td>\n",
       "      <td>4219.107339</td>\n",
       "    </tr>\n",
       "  </tbody>\n",
       "</table>\n",
       "<p>129050 rows × 2 columns</p>\n",
       "</div>"
      ],
      "text/plain": [
       "            id        price\n",
       "0       193573   888.503801\n",
       "1       193574  2599.578869\n",
       "2       193575  2363.894887\n",
       "3       193576   842.430688\n",
       "4       193577  5886.924016\n",
       "...        ...          ...\n",
       "129045  322618  3898.460743\n",
       "129046  322619  2570.210590\n",
       "129047  322620  7751.240966\n",
       "129048  322621  6759.703910\n",
       "129049  322622  4219.107339\n",
       "\n",
       "[129050 rows x 2 columns]"
      ]
     },
     "execution_count": 97,
     "metadata": {},
     "output_type": "execute_result"
    }
   ],
   "source": [
    "submit_6 = df_out[['id','price']]\n",
    "submit_6\n",
    "                "
   ]
  },
  {
   "cell_type": "code",
   "execution_count": 98,
   "id": "8bcdbba0-6986-4864-a402-5e221400f4b7",
   "metadata": {},
   "outputs": [],
   "source": [
    "submit_6.to_csv('submit_6.csv',index=False)"
   ]
  },
  {
   "cell_type": "code",
   "execution_count": null,
   "id": "a9780099-64e0-48cd-91c1-abd94d1a6b1e",
   "metadata": {},
   "outputs": [],
   "source": []
  },
  {
   "cell_type": "code",
   "execution_count": null,
   "id": "8a109178-104d-4449-8db6-fb2a4a738aae",
   "metadata": {},
   "outputs": [],
   "source": []
  },
  {
   "cell_type": "code",
   "execution_count": null,
   "id": "c5a05475-c245-49b5-b737-88a75534d010",
   "metadata": {},
   "outputs": [],
   "source": []
  },
  {
   "cell_type": "markdown",
   "id": "d91c4e6f-5dee-456f-bbba-c8d4e79a7f3b",
   "metadata": {},
   "source": [
    "https://www.kaggle.com/code/satoshiss/gemstone-price-prediction-s3e8"
   ]
  },
  {
   "cell_type": "code",
   "execution_count": null,
   "id": "1374bb0b-8644-4366-b85a-9a04f7279844",
   "metadata": {},
   "outputs": [],
   "source": []
  },
  {
   "cell_type": "code",
   "execution_count": null,
   "id": "3b638328-e217-4000-b0c3-275260009a63",
   "metadata": {},
   "outputs": [],
   "source": []
  },
  {
   "cell_type": "code",
   "execution_count": 103,
   "id": "278545f4-2f1f-48b6-a86f-84b38685e875",
   "metadata": {},
   "outputs": [
    {
     "data": {
      "text/html": [
       "<div>\n",
       "<style scoped>\n",
       "    .dataframe tbody tr th:only-of-type {\n",
       "        vertical-align: middle;\n",
       "    }\n",
       "\n",
       "    .dataframe tbody tr th {\n",
       "        vertical-align: top;\n",
       "    }\n",
       "\n",
       "    .dataframe thead th {\n",
       "        text-align: right;\n",
       "    }\n",
       "</style>\n",
       "<table border=\"1\" class=\"dataframe\">\n",
       "  <thead>\n",
       "    <tr style=\"text-align: right;\">\n",
       "      <th></th>\n",
       "      <th>id</th>\n",
       "      <th>carat</th>\n",
       "      <th>cut</th>\n",
       "      <th>color</th>\n",
       "      <th>clarity</th>\n",
       "      <th>depth</th>\n",
       "      <th>table</th>\n",
       "      <th>x</th>\n",
       "      <th>y</th>\n",
       "      <th>z</th>\n",
       "      <th>price</th>\n",
       "    </tr>\n",
       "  </thead>\n",
       "  <tbody>\n",
       "    <tr>\n",
       "      <th>0</th>\n",
       "      <td>0</td>\n",
       "      <td>1.52</td>\n",
       "      <td>Premium</td>\n",
       "      <td>F</td>\n",
       "      <td>VS2</td>\n",
       "      <td>62.2</td>\n",
       "      <td>58.0</td>\n",
       "      <td>7.27</td>\n",
       "      <td>7.33</td>\n",
       "      <td>4.55</td>\n",
       "      <td>13619</td>\n",
       "    </tr>\n",
       "    <tr>\n",
       "      <th>1</th>\n",
       "      <td>1</td>\n",
       "      <td>2.03</td>\n",
       "      <td>Very Good</td>\n",
       "      <td>J</td>\n",
       "      <td>SI2</td>\n",
       "      <td>62.0</td>\n",
       "      <td>58.0</td>\n",
       "      <td>8.06</td>\n",
       "      <td>8.12</td>\n",
       "      <td>5.05</td>\n",
       "      <td>13387</td>\n",
       "    </tr>\n",
       "    <tr>\n",
       "      <th>2</th>\n",
       "      <td>2</td>\n",
       "      <td>0.70</td>\n",
       "      <td>Ideal</td>\n",
       "      <td>G</td>\n",
       "      <td>VS1</td>\n",
       "      <td>61.2</td>\n",
       "      <td>57.0</td>\n",
       "      <td>5.69</td>\n",
       "      <td>5.73</td>\n",
       "      <td>3.50</td>\n",
       "      <td>2772</td>\n",
       "    </tr>\n",
       "    <tr>\n",
       "      <th>3</th>\n",
       "      <td>3</td>\n",
       "      <td>0.32</td>\n",
       "      <td>Ideal</td>\n",
       "      <td>G</td>\n",
       "      <td>VS1</td>\n",
       "      <td>61.6</td>\n",
       "      <td>56.0</td>\n",
       "      <td>4.38</td>\n",
       "      <td>4.41</td>\n",
       "      <td>2.71</td>\n",
       "      <td>666</td>\n",
       "    </tr>\n",
       "    <tr>\n",
       "      <th>4</th>\n",
       "      <td>4</td>\n",
       "      <td>1.70</td>\n",
       "      <td>Premium</td>\n",
       "      <td>G</td>\n",
       "      <td>VS2</td>\n",
       "      <td>62.6</td>\n",
       "      <td>59.0</td>\n",
       "      <td>7.65</td>\n",
       "      <td>7.61</td>\n",
       "      <td>4.77</td>\n",
       "      <td>14453</td>\n",
       "    </tr>\n",
       "  </tbody>\n",
       "</table>\n",
       "</div>"
      ],
      "text/plain": [
       "   id  carat        cut color clarity  depth  table     x     y     z  price\n",
       "0   0   1.52    Premium     F     VS2   62.2   58.0  7.27  7.33  4.55  13619\n",
       "1   1   2.03  Very Good     J     SI2   62.0   58.0  8.06  8.12  5.05  13387\n",
       "2   2   0.70      Ideal     G     VS1   61.2   57.0  5.69  5.73  3.50   2772\n",
       "3   3   0.32      Ideal     G     VS1   61.6   56.0  4.38  4.41  2.71    666\n",
       "4   4   1.70    Premium     G     VS2   62.6   59.0  7.65  7.61  4.77  14453"
      ]
     },
     "execution_count": 103,
     "metadata": {},
     "output_type": "execute_result"
    }
   ],
   "source": [
    "df.head()"
   ]
  },
  {
   "cell_type": "code",
   "execution_count": 110,
   "id": "5b0ab5ab-553d-425e-a6be-db993c236995",
   "metadata": {},
   "outputs": [
    {
     "data": {
      "text/html": [
       "<div>\n",
       "<style scoped>\n",
       "    .dataframe tbody tr th:only-of-type {\n",
       "        vertical-align: middle;\n",
       "    }\n",
       "\n",
       "    .dataframe tbody tr th {\n",
       "        vertical-align: top;\n",
       "    }\n",
       "\n",
       "    .dataframe thead th {\n",
       "        text-align: right;\n",
       "    }\n",
       "</style>\n",
       "<table border=\"1\" class=\"dataframe\">\n",
       "  <thead>\n",
       "    <tr style=\"text-align: right;\">\n",
       "      <th></th>\n",
       "      <th>id</th>\n",
       "      <th>price</th>\n",
       "      <th>cut</th>\n",
       "    </tr>\n",
       "  </thead>\n",
       "  <tbody>\n",
       "    <tr>\n",
       "      <th>0</th>\n",
       "      <td>0</td>\n",
       "      <td>13619</td>\n",
       "      <td>Premium</td>\n",
       "    </tr>\n",
       "    <tr>\n",
       "      <th>1</th>\n",
       "      <td>1</td>\n",
       "      <td>13387</td>\n",
       "      <td>Very Good</td>\n",
       "    </tr>\n",
       "    <tr>\n",
       "      <th>2</th>\n",
       "      <td>2</td>\n",
       "      <td>2772</td>\n",
       "      <td>Ideal</td>\n",
       "    </tr>\n",
       "    <tr>\n",
       "      <th>3</th>\n",
       "      <td>3</td>\n",
       "      <td>666</td>\n",
       "      <td>Ideal</td>\n",
       "    </tr>\n",
       "    <tr>\n",
       "      <th>4</th>\n",
       "      <td>4</td>\n",
       "      <td>14453</td>\n",
       "      <td>Premium</td>\n",
       "    </tr>\n",
       "    <tr>\n",
       "      <th>5</th>\n",
       "      <td>5</td>\n",
       "      <td>7506</td>\n",
       "      <td>Very Good</td>\n",
       "    </tr>\n",
       "    <tr>\n",
       "      <th>6</th>\n",
       "      <td>6</td>\n",
       "      <td>3229</td>\n",
       "      <td>Ideal</td>\n",
       "    </tr>\n",
       "    <tr>\n",
       "      <th>7</th>\n",
       "      <td>7</td>\n",
       "      <td>6224</td>\n",
       "      <td>Premium</td>\n",
       "    </tr>\n",
       "    <tr>\n",
       "      <th>8</th>\n",
       "      <td>8</td>\n",
       "      <td>886</td>\n",
       "      <td>Ideal</td>\n",
       "    </tr>\n",
       "    <tr>\n",
       "      <th>9</th>\n",
       "      <td>9</td>\n",
       "      <td>421</td>\n",
       "      <td>Good</td>\n",
       "    </tr>\n",
       "  </tbody>\n",
       "</table>\n",
       "</div>"
      ],
      "text/plain": [
       "   id  price        cut\n",
       "0   0  13619    Premium\n",
       "1   1  13387  Very Good\n",
       "2   2   2772      Ideal\n",
       "3   3    666      Ideal\n",
       "4   4  14453    Premium\n",
       "5   5   7506  Very Good\n",
       "6   6   3229      Ideal\n",
       "7   7   6224    Premium\n",
       "8   8    886      Ideal\n",
       "9   9    421       Good"
      ]
     },
     "execution_count": 110,
     "metadata": {},
     "output_type": "execute_result"
    }
   ],
   "source": [
    "df_selected = df.loc[0:9,['id','price','cut']]\n",
    "df_selected"
   ]
  },
  {
   "cell_type": "code",
   "execution_count": 119,
   "id": "7748a5a5-4f4d-4b78-ae9e-3555bddefe52",
   "metadata": {},
   "outputs": [
    {
     "data": {
      "text/plain": [
       "5"
      ]
     },
     "execution_count": 119,
     "metadata": {},
     "output_type": "execute_result"
    }
   ],
   "source": [
    "from sklearn.model_selection import KFold\n",
    "\n",
    "X = df.drop(columns=['price'])\n",
    "y = df['price']\n",
    "\n"
   ]
  },
  {
   "cell_type": "code",
   "execution_count": 120,
   "id": "133726db-1925-4379-bb65-5d8fb988b7a0",
   "metadata": {},
   "outputs": [
    {
     "name": "stdout",
     "output_type": "stream",
     "text": [
      "KFold(n_splits=5, random_state=None, shuffle=False)\n"
     ]
    }
   ],
   "source": [
    "print(kf)"
   ]
  },
  {
   "cell_type": "code",
   "execution_count": 125,
   "id": "01b12c1b-315b-453b-bad8-efff0a01d48d",
   "metadata": {
    "tags": []
   },
   "outputs": [
    {
     "name": "stdout",
     "output_type": "stream",
     "text": [
      "Fold 0:\n",
      "  Train: index=[2 3 4 5 6 7 8 9]\n",
      "  Test:  index=[0 1]\n",
      "Fold 1:\n",
      "  Train: index=[0 1 4 5 6 7 8 9]\n",
      "  Test:  index=[2 3]\n",
      "Fold 2:\n",
      "  Train: index=[0 1 2 3 6 7 8 9]\n",
      "  Test:  index=[4 5]\n",
      "Fold 3:\n",
      "  Train: index=[0 1 2 3 4 5 8 9]\n",
      "  Test:  index=[6 7]\n",
      "Fold 4:\n",
      "  Train: index=[0 1 2 3 4 5 6 7]\n",
      "  Test:  index=[8 9]\n"
     ]
    }
   ],
   "source": [
    "for i, (train_index, test_index) in enumerate(kf.split(X)):\n",
    "     print(f\"Fold {i}:\")\n",
    "     print(f\"  Train: index={train_index}\")\n",
    "     print(f\"  Test:  index={test_index}\")\n",
    "    \n",
    "        \n",
    "    "
   ]
  },
  {
   "cell_type": "code",
   "execution_count": null,
   "id": "cbc2216d-00cb-476a-a0a2-c094aa0238a3",
   "metadata": {},
   "outputs": [],
   "source": []
  },
  {
   "cell_type": "code",
   "execution_count": null,
   "id": "95bf3056-1c35-4111-8f10-1488a1e55aa1",
   "metadata": {},
   "outputs": [],
   "source": []
  },
  {
   "cell_type": "markdown",
   "id": "895b654d-8f53-4502-9cf8-bffd5ef23793",
   "metadata": {},
   "source": [
    "# Kaggle"
   ]
  },
  {
   "cell_type": "markdown",
   "id": "1f417553-2249-4c1f-9779-6c68c467a382",
   "metadata": {},
   "source": [
    "https://www.kaggle.com/code/satoshiss/gemstone-price-prediction-s3e8"
   ]
  },
  {
   "cell_type": "code",
   "execution_count": 143,
   "id": "fd667802-82d6-4bff-b851-e6bc6b2efeac",
   "metadata": {
    "tags": []
   },
   "outputs": [],
   "source": [
    "N=5\n",
    "\n",
    "train_list = []\n",
    "test_list = []\n",
    "\n",
    "# stratifiedKfold by department\n",
    "kfold = KFold(n_splits=N, random_state=10,shuffle=True)\n",
    "X = df.drop(columns=['price'])\n",
    "y = df['price'] \n",
    "\n",
    "for i, (train_index,test_index) in enumerate(kfold.split(X)):\n",
    "    X_train,X_test = X.iloc[train_index],X.iloc[test_index]\n",
    "    y_train,y_test = y.iloc[train_index],y.iloc[test_index]\n",
    "\n",
    "    train_list.append((X_train,y_train))\n",
    "    test_list.append((X_test,y_test))\n",
    "    \n",
    "    #print(f\"Fold {i}:\")\n",
    "    #print(train_list[i][0])\n",
    "    #print(test_list[i][0])\n",
    "    #print(train_list[i][1])\n",
    "    #print(test_list[i][1])"
   ]
  },
  {
   "cell_type": "code",
   "execution_count": 171,
   "id": "08469d72-5a7c-41a1-a6cb-4dea760813f2",
   "metadata": {},
   "outputs": [],
   "source": [
    "N=10\n",
    "\n",
    "train_list = []\n",
    "test_list = []\n",
    "\n",
    "X_train_fold = []\n",
    "X_test_fold = []\n",
    "y_train_fold = []\n",
    "y_test_fold = []\n",
    "\n",
    "\n",
    "# stratifiedKfold by department\n",
    "kfold = KFold(n_splits=N, random_state=10,shuffle=True)\n",
    "X = df.drop(columns=['price'])\n",
    "y = df['price'] \n",
    "\n",
    "for i, (train_index,test_index) in enumerate(kfold.split(X)):\n",
    "    X_train = X.iloc[train_index]\n",
    "    X_test = X.iloc[test_index]\n",
    "    y_train = y.iloc[train_index]\n",
    "    y_test = y.iloc[test_index]\n",
    "\n",
    "    X_train_fold.append((X_train))\n",
    "    X_test_fold.append((X_test))\n",
    "    y_train_fold.append((y_train))\n",
    "    y_test_fold.append((y_test))\n",
    "    \n",
    "   # print(f\"Fold {i}:\")\n",
    "   # print(X_train_fold[i])\n",
    "   # print(X_test_fold[i])\n",
    "   # print(y_train_fold[i])\n",
    "   # print(y_test_fold[i])"
   ]
  },
  {
   "cell_type": "code",
   "execution_count": 175,
   "id": "f2eb78b8-b266-4c44-a932-73f370fd3f20",
   "metadata": {},
   "outputs": [
    {
     "name": "stdout",
     "output_type": "stream",
     "text": [
      "Fold 1\n",
      "Accuracy on validation data: 586.9\n",
      "\n",
      "Fold 2\n",
      "Accuracy on validation data: 586.2\n",
      "\n",
      "Fold 3\n",
      "Accuracy on validation data: 564.5\n",
      "\n",
      "Fold 4\n",
      "Accuracy on validation data: 588.0\n",
      "\n",
      "Fold 5\n",
      "Accuracy on validation data: 575.5\n",
      "\n",
      "Fold 6\n",
      "Accuracy on validation data: 569.7\n",
      "\n",
      "Fold 7\n",
      "Accuracy on validation data: 562.8\n",
      "\n",
      "Fold 8\n",
      "Accuracy on validation data: 562.5\n",
      "\n",
      "Fold 9\n",
      "Accuracy on validation data: 566.8\n",
      "\n",
      "Fold 10\n",
      "Accuracy on validation data: 580.1\n",
      "\n",
      "\n",
      "Average RMSE: 574.3077075177893\n"
     ]
    }
   ],
   "source": [
    "predictions=[]\n",
    "rmses=[]\n",
    "\n",
    "\n",
    "for  i in range(N):\n",
    "    model = CatBoostRegressor(n_estimators=10000, verbose=False)\n",
    "\n",
    "    \n",
    "    y_train = y_train_fold[i]\n",
    "    X_train = X_train_fold[i]\n",
    "    \n",
    "    y_test = y_test_fold[i]\n",
    "    X_test = X_test_fold[i]\n",
    "    \n",
    "    X_train = transformer_pipe.fit_transform(X_train,y_train)\n",
    "    X_test = transformer_pipe.transform(X_test)\n",
    "   \n",
    "    # fit the model\n",
    "    model.fit(X_train,y_train,\n",
    "             early_stopping_rounds=100, \n",
    "             eval_set=[(X_test, y_test)],\n",
    "             )\n",
    "    \n",
    "    # evaluate on test data\n",
    "    pre = model.predict(X_test)\n",
    "    \n",
    "    rmse = mean_squared_error(y_test,pre,squared=False)\n",
    "    rmses.append(rmse)\n",
    "    \n",
    "    print(f'Fold {i+1}')\n",
    "    print('Accuracy on validation data: {:.1f}'.format(rmse))\n",
    "    \n",
    "    print()\n",
    "    # two votes if scored well \n",
    "    #pre = model.predict(test_df)\n",
    "    #predictions.append(pre)\n",
    "print()\n",
    "print(f'Average RMSE: {np.mean(rmses)}')"
   ]
  },
  {
   "cell_type": "code",
   "execution_count": null,
   "id": "adb13f92-c0a8-4dcf-bf76-1597ba256164",
   "metadata": {},
   "outputs": [],
   "source": [
    "predictions= [np.mean(a) for a in zip(*predictions)]"
   ]
  },
  {
   "cell_type": "code",
   "execution_count": null,
   "id": "30bc41f8-7709-461f-bed2-7e8e0b665498",
   "metadata": {},
   "outputs": [],
   "source": []
  },
  {
   "cell_type": "code",
   "execution_count": null,
   "id": "a4d5a970-a58c-449c-9f08-09cb571e7515",
   "metadata": {},
   "outputs": [],
   "source": []
  },
  {
   "cell_type": "code",
   "execution_count": null,
   "id": "b2985254-df2e-4c61-b4f1-487797cd6acc",
   "metadata": {},
   "outputs": [],
   "source": [
    "true_value = y_test\n",
    "predicted_value = y_pred_test\n",
    "\n",
    "plt.figure(figsize=(5,5))\n",
    "plt.scatter(true_value, predicted_value, c='crimson')\n",
    "\n",
    "p1 = max(max(predicted_value), max(true_value))\n",
    "p2 = min(min(predicted_value), min(true_value))\n",
    "plt.plot([p1, p2], [p1, p2], 'b-')\n",
    "plt.xlabel('True Values', fontsize=15)\n",
    "plt.ylabel('Predictions', fontsize=15)\n",
    "plt.axis('equal')\n",
    "plt.show()"
   ]
  },
  {
   "cell_type": "code",
   "execution_count": null,
   "id": "2039202a-d55c-4342-9648-5dac60ef60ad",
   "metadata": {},
   "outputs": [],
   "source": []
  },
  {
   "cell_type": "code",
   "execution_count": null,
   "id": "ba70b98c-706d-4dd7-bab3-d35d0f84d1f0",
   "metadata": {},
   "outputs": [],
   "source": []
  },
  {
   "cell_type": "code",
   "execution_count": null,
   "id": "217288d6-97f1-45db-9d4f-6fedff12143c",
   "metadata": {},
   "outputs": [],
   "source": [
    "reg_model_stack2.predict(X_test)\n",
    "\n",
    "rsme_test = mean_squared_error(y_test, reg_model_stack2.predict(X_test), squared=False)\n",
    "rsme_test"
   ]
  },
  {
   "cell_type": "code",
   "execution_count": 134,
   "id": "abcdebe1-ea41-4da9-9f8b-0e1524da5817",
   "metadata": {},
   "outputs": [
    {
     "data": {
      "text/html": [
       "<div>\n",
       "<style scoped>\n",
       "    .dataframe tbody tr th:only-of-type {\n",
       "        vertical-align: middle;\n",
       "    }\n",
       "\n",
       "    .dataframe tbody tr th {\n",
       "        vertical-align: top;\n",
       "    }\n",
       "\n",
       "    .dataframe thead th {\n",
       "        text-align: right;\n",
       "    }\n",
       "</style>\n",
       "<table border=\"1\" class=\"dataframe\">\n",
       "  <thead>\n",
       "    <tr style=\"text-align: right;\">\n",
       "      <th></th>\n",
       "      <th>id</th>\n",
       "      <th>cut</th>\n",
       "    </tr>\n",
       "  </thead>\n",
       "  <tbody>\n",
       "    <tr>\n",
       "      <th>0</th>\n",
       "      <td>0</td>\n",
       "      <td>Premium</td>\n",
       "    </tr>\n",
       "    <tr>\n",
       "      <th>1</th>\n",
       "      <td>1</td>\n",
       "      <td>Very Good</td>\n",
       "    </tr>\n",
       "    <tr>\n",
       "      <th>2</th>\n",
       "      <td>2</td>\n",
       "      <td>Ideal</td>\n",
       "    </tr>\n",
       "    <tr>\n",
       "      <th>3</th>\n",
       "      <td>3</td>\n",
       "      <td>Ideal</td>\n",
       "    </tr>\n",
       "    <tr>\n",
       "      <th>4</th>\n",
       "      <td>4</td>\n",
       "      <td>Premium</td>\n",
       "    </tr>\n",
       "    <tr>\n",
       "      <th>5</th>\n",
       "      <td>5</td>\n",
       "      <td>Very Good</td>\n",
       "    </tr>\n",
       "    <tr>\n",
       "      <th>7</th>\n",
       "      <td>7</td>\n",
       "      <td>Premium</td>\n",
       "    </tr>\n",
       "    <tr>\n",
       "      <th>8</th>\n",
       "      <td>8</td>\n",
       "      <td>Ideal</td>\n",
       "    </tr>\n",
       "    <tr>\n",
       "      <th>9</th>\n",
       "      <td>9</td>\n",
       "      <td>Good</td>\n",
       "    </tr>\n",
       "  </tbody>\n",
       "</table>\n",
       "</div>"
      ],
      "text/plain": [
       "   id        cut\n",
       "0   0    Premium\n",
       "1   1  Very Good\n",
       "2   2      Ideal\n",
       "3   3      Ideal\n",
       "4   4    Premium\n",
       "5   5  Very Good\n",
       "7   7    Premium\n",
       "8   8      Ideal\n",
       "9   9       Good"
      ]
     },
     "execution_count": 134,
     "metadata": {},
     "output_type": "execute_result"
    }
   ],
   "source": [
    "train_list[3][0]"
   ]
  },
  {
   "cell_type": "code",
   "execution_count": null,
   "id": "8b30b126-135a-491f-8f91-d7128cad133a",
   "metadata": {},
   "outputs": [],
   "source": []
  },
  {
   "cell_type": "code",
   "execution_count": null,
   "id": "b19cd129-aa84-4271-8d20-0628da22020c",
   "metadata": {},
   "outputs": [],
   "source": []
  },
  {
   "cell_type": "code",
   "execution_count": null,
   "id": "5c988e14-9c0c-4d33-8750-5bb26695031e",
   "metadata": {},
   "outputs": [],
   "source": []
  },
  {
   "cell_type": "code",
   "execution_count": 122,
   "id": "30eb89e7-83d7-4dac-95ac-ad7413b2b1ca",
   "metadata": {},
   "outputs": [
    {
     "data": {
      "text/html": [
       "<div>\n",
       "<style scoped>\n",
       "    .dataframe tbody tr th:only-of-type {\n",
       "        vertical-align: middle;\n",
       "    }\n",
       "\n",
       "    .dataframe tbody tr th {\n",
       "        vertical-align: top;\n",
       "    }\n",
       "\n",
       "    .dataframe thead th {\n",
       "        text-align: right;\n",
       "    }\n",
       "</style>\n",
       "<table border=\"1\" class=\"dataframe\">\n",
       "  <thead>\n",
       "    <tr style=\"text-align: right;\">\n",
       "      <th></th>\n",
       "      <th>id</th>\n",
       "      <th>cut</th>\n",
       "    </tr>\n",
       "  </thead>\n",
       "  <tbody>\n",
       "    <tr>\n",
       "      <th>0</th>\n",
       "      <td>0</td>\n",
       "      <td>Premium</td>\n",
       "    </tr>\n",
       "    <tr>\n",
       "      <th>1</th>\n",
       "      <td>1</td>\n",
       "      <td>Very Good</td>\n",
       "    </tr>\n",
       "  </tbody>\n",
       "</table>\n",
       "</div>"
      ],
      "text/plain": [
       "   id        cut\n",
       "0   0    Premium\n",
       "1   1  Very Good"
      ]
     },
     "execution_count": 122,
     "metadata": {},
     "output_type": "execute_result"
    }
   ],
   "source": [
    "X.loc[[0,1]]"
   ]
  },
  {
   "cell_type": "code",
   "execution_count": 123,
   "id": "89e33800-6adf-4e1c-832b-4b1f0627e726",
   "metadata": {},
   "outputs": [
    {
     "data": {
      "text/plain": [
       "0    13619\n",
       "1    13387\n",
       "Name: price, dtype: int64"
      ]
     },
     "execution_count": 123,
     "metadata": {},
     "output_type": "execute_result"
    }
   ],
   "source": [
    "y.loc[[0,1]]"
   ]
  },
  {
   "cell_type": "code",
   "execution_count": null,
   "id": "49b5bc49-f6fe-432d-adab-bd6390114e38",
   "metadata": {},
   "outputs": [],
   "source": []
  }
 ],
 "metadata": {
  "kernelspec": {
   "display_name": "Python 3 (ipykernel)",
   "language": "python",
   "name": "python3"
  },
  "language_info": {
   "codemirror_mode": {
    "name": "ipython",
    "version": 3
   },
   "file_extension": ".py",
   "mimetype": "text/x-python",
   "name": "python",
   "nbconvert_exporter": "python",
   "pygments_lexer": "ipython3",
   "version": "3.9.13"
  }
 },
 "nbformat": 4,
 "nbformat_minor": 5
}
